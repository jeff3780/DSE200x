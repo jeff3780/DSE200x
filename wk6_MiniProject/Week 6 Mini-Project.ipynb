{
 "cells": [
  {
   "cell_type": "markdown",
   "metadata": {},
   "source": [
    "Week 6 Mini-project\n",
    "by Jeff Puuri\n",
    "for EdX course DSE200x - Python for Data Science\n",
    "\n",
    "References:\n",
    "Slide Template: https://docs.google.com/presentation/d/1CAXnIH7ctHePs-TVeWVKafB9c1-mxmdEKE8_ntzY_M0/edit#slide=id.g1e0c2d5179_0_5\n",
    "Mini-Project Description page: https://courses.edx.org/courses/course-v1:UCSanDiegoX+DSE200x+1T2018/courseware/82d46c5420924002ab6738f6c33aea53/77277bfa5b904ac79099930f7369dd18/1?activate_block_id=block-v1%3AUCSanDiegoX%2BDSE200x%2B1T2018%2Btype%40html%2Bblock%40a7c4de0902c3413abef80f135201c19c\n",
    "\n",
    "Data Exploration to figure out a project...\n",
    "\n",
    "Pick a dataset: I'm a GIS guy, so it needs to be world indicators\n",
    "\n",
    "Lots of variables, so find a couple to be of interest and value for a study"
   ]
  },
  {
   "cell_type": "code",
   "execution_count": 1,
   "metadata": {},
   "outputs": [],
   "source": [
    "# Using NBs from wk 5, import the libraries we'll need\n",
    "import pandas as pd\n",
    "import numpy as np\n",
    "import matplotlib.pyplot as plt"
   ]
  },
  {
   "cell_type": "code",
   "execution_count": 2,
   "metadata": {},
   "outputs": [
    {
     "data": {
      "text/plain": [
       "(5656458, 6)"
      ]
     },
     "execution_count": 2,
     "metadata": {},
     "output_type": "execute_result"
    }
   ],
   "source": [
    "# Read in the data once injto a dataframe named df, it is a big dataset\n",
    "df = pd.read_csv('D:/PjtData/4_PD/edX_DSE200x/wk5_Matplotlib/Indicators.csv')\n",
    "df.shape"
   ]
  },
  {
   "cell_type": "code",
   "execution_count": 3,
   "metadata": {},
   "outputs": [
    {
     "data": {
      "text/plain": [
       "Index(['CountryName', 'CountryCode', 'IndicatorName', 'IndicatorCode', 'Year',\n",
       "       'Value'],\n",
       "      dtype='object')"
      ]
     },
     "execution_count": 3,
     "metadata": {},
     "output_type": "execute_result"
    }
   ],
   "source": [
    "# Here's the list of columns to use for future filters\n",
    "df.columns"
   ]
  },
  {
   "cell_type": "code",
   "execution_count": 4,
   "metadata": {},
   "outputs": [
    {
     "data": {
      "text/plain": [
       "pandas.core.frame.DataFrame"
      ]
     },
     "execution_count": 4,
     "metadata": {},
     "output_type": "execute_result"
    }
   ],
   "source": [
    "# Variables are going to be in the IndicatorName column, so look at what is available\n",
    "# via .unique() which produces a numpy ndarray, so must cast back to pandas dataframe\n",
    "# to export to excel so that I can see the list \n",
    "indicator_list = pd.DataFrame(df['IndicatorName'].unique())\n",
    "type(indicator_list)"
   ]
  },
  {
   "cell_type": "code",
   "execution_count": 5,
   "metadata": {},
   "outputs": [],
   "source": [
    "# Send to Excel for interactive filter and sort tools to find interesting variables to study\n",
    "# Comment this out once variable are decided because we don't need to regenerate the spreadsheet time after time,\n",
    "# but leave it here so others can see the methodology and tools used during data exploration\n",
    "#indicator_list.to_excel('D:/PjtData/4_PD/edX_DSE200x/wk5_Matplotlib/Indicators.xlsx', sheet_name='Indicators')"
   ]
  },
  {
   "cell_type": "markdown",
   "metadata": {},
   "source": [
    "After review in Excel, going with:\n",
    "* Renewable internal freshwater resources per capita (cubic meters)\n",
    "* GDP per capita (current US\\$), or maybe\n",
    "* Adjusted net national income per capita (current US$)\n",
    "\n",
    "Because it is reported there is a water crisis in developing countries,\n",
    "I would like to see the disparity in terms of: per capita GDP or income\n",
    "\n",
    "It appears that the indicator for Renewable internal freshwater resources is not reported every year.\n",
    "Therefore we will examine an early year and a more recent year in which this indicator was reported: 1972 and 2012."
   ]
  },
  {
   "cell_type": "code",
   "execution_count": 6,
   "metadata": {},
   "outputs": [
    {
     "name": "stdout",
     "output_type": "stream",
     "text": [
      "1972 CountryName      180\n",
      "CountryCode      180\n",
      "IndicatorName    180\n",
      "IndicatorCode    180\n",
      "Year             180\n",
      "Value            180\n",
      "dtype: int64 CountryName      129\n",
      "CountryCode      129\n",
      "IndicatorName    129\n",
      "IndicatorCode    129\n",
      "Year             129\n",
      "Value            129\n",
      "dtype: int64 CountryName      153\n",
      "CountryCode      153\n",
      "IndicatorName    153\n",
      "IndicatorCode    153\n",
      "Year             153\n",
      "Value            153\n",
      "dtype: int64\n",
      "2012 CountryName      209\n",
      "CountryCode      209\n",
      "IndicatorName    209\n",
      "IndicatorCode    209\n",
      "Year             209\n",
      "Value            209\n",
      "dtype: int64 CountryName      202\n",
      "CountryCode      202\n",
      "IndicatorName    202\n",
      "IndicatorCode    202\n",
      "Year             202\n",
      "Value            202\n",
      "dtype: int64 CountryName      225\n",
      "CountryCode      225\n",
      "IndicatorName    225\n",
      "IndicatorCode    225\n",
      "Year             225\n",
      "Value            225\n",
      "dtype: int64\n"
     ]
    }
   ],
   "source": [
    "# Set the strings for the indicator variables we'll be using\n",
    "h2oInd = 'Renewable internal freshwater resources per capita (cubic meters)'\n",
    "incInd = 'Adjusted net national income per capita (current US$)'\n",
    "gdpInd = 'GDP per capita (current US$)'\n",
    "# Create a tuple of the two years during which the water indicator was reported\n",
    "rptyrs = (1972, 2012)\n",
    "\n",
    "# DF masks for the three indicator variables we'll be examining\n",
    "h2oMask = df['IndicatorName'] == h2oInd\n",
    "incMask = df['IndicatorName'] == incInd\n",
    "gdpMask = df['IndicatorName'] == gdpInd\n",
    "\n",
    "# Create dictionaries of DFs for each indicator for each yr\n",
    "dfh2oyr = {}\n",
    "dfincyr = {}\n",
    "dfgdpyr = {}\n",
    "\n",
    "for rptyr in rptyrs:\n",
    "    yrMask = df['Year'] == rptyr\n",
    "    \n",
    "    dfh2oyr[rptyr] = df[(yrMask) & (h2oMask)]\n",
    "    dfincyr[rptyr] = df[(yrMask) & (incMask)]\n",
    "    dfgdpyr[rptyr] = df[(yrMask) & (gdpMask)]\n",
    "    print(rptyr, dfh2oyr[rptyr].count(), dfincyr[rptyr].count(), dfgdpyr[rptyr].count())"
   ]
  },
  {
   "cell_type": "code",
   "execution_count": 7,
   "metadata": {},
   "outputs": [
    {
     "data": {
      "text/html": [
       "<div>\n",
       "<style scoped>\n",
       "    .dataframe tbody tr th:only-of-type {\n",
       "        vertical-align: middle;\n",
       "    }\n",
       "\n",
       "    .dataframe tbody tr th {\n",
       "        vertical-align: top;\n",
       "    }\n",
       "\n",
       "    .dataframe thead th {\n",
       "        text-align: right;\n",
       "    }\n",
       "</style>\n",
       "<table border=\"1\" class=\"dataframe\">\n",
       "  <thead>\n",
       "    <tr style=\"text-align: right;\">\n",
       "      <th></th>\n",
       "      <th>CountryName_x</th>\n",
       "      <th>CountryCode</th>\n",
       "      <th>IndicatorName_x</th>\n",
       "      <th>IndicatorCode_x</th>\n",
       "      <th>Year_x</th>\n",
       "      <th>Value_x</th>\n",
       "      <th>CountryName_y</th>\n",
       "      <th>IndicatorName_y</th>\n",
       "      <th>IndicatorCode_y</th>\n",
       "      <th>Year_y</th>\n",
       "      <th>Value_y</th>\n",
       "    </tr>\n",
       "  </thead>\n",
       "  <tbody>\n",
       "    <tr>\n",
       "      <th>0</th>\n",
       "      <td>Arab World</td>\n",
       "      <td>ARB</td>\n",
       "      <td>Renewable internal freshwater resources per ca...</td>\n",
       "      <td>ER.H2O.INTR.PC</td>\n",
       "      <td>1972</td>\n",
       "      <td>1018.386484</td>\n",
       "      <td>NaN</td>\n",
       "      <td>NaN</td>\n",
       "      <td>NaN</td>\n",
       "      <td>NaN</td>\n",
       "      <td>NaN</td>\n",
       "    </tr>\n",
       "    <tr>\n",
       "      <th>1</th>\n",
       "      <td>Caribbean small states</td>\n",
       "      <td>CSS</td>\n",
       "      <td>Renewable internal freshwater resources per ca...</td>\n",
       "      <td>ER.H2O.INTR.PC</td>\n",
       "      <td>1972</td>\n",
       "      <td>77322.745771</td>\n",
       "      <td>Caribbean small states</td>\n",
       "      <td>Adjusted net national income per capita (curre...</td>\n",
       "      <td>NY.ADJ.NNTY.PC.CD</td>\n",
       "      <td>1972.0</td>\n",
       "      <td>805.715154</td>\n",
       "    </tr>\n",
       "    <tr>\n",
       "      <th>2</th>\n",
       "      <td>Central Europe and the Baltics</td>\n",
       "      <td>CEB</td>\n",
       "      <td>Renewable internal freshwater resources per ca...</td>\n",
       "      <td>ER.H2O.INTR.PC</td>\n",
       "      <td>1972</td>\n",
       "      <td>1690.781140</td>\n",
       "      <td>NaN</td>\n",
       "      <td>NaN</td>\n",
       "      <td>NaN</td>\n",
       "      <td>NaN</td>\n",
       "      <td>NaN</td>\n",
       "    </tr>\n",
       "    <tr>\n",
       "      <th>3</th>\n",
       "      <td>East Asia &amp; Pacific (all income levels)</td>\n",
       "      <td>EAS</td>\n",
       "      <td>Renewable internal freshwater resources per ca...</td>\n",
       "      <td>ER.H2O.INTR.PC</td>\n",
       "      <td>1972</td>\n",
       "      <td>7565.189613</td>\n",
       "      <td>East Asia &amp; Pacific (all income levels)</td>\n",
       "      <td>Adjusted net national income per capita (curre...</td>\n",
       "      <td>NY.ADJ.NNTY.PC.CD</td>\n",
       "      <td>1972.0</td>\n",
       "      <td>362.267143</td>\n",
       "    </tr>\n",
       "    <tr>\n",
       "      <th>4</th>\n",
       "      <td>East Asia &amp; Pacific (developing only)</td>\n",
       "      <td>EAP</td>\n",
       "      <td>Renewable internal freshwater resources per ca...</td>\n",
       "      <td>ER.H2O.INTR.PC</td>\n",
       "      <td>1972</td>\n",
       "      <td>7463.472622</td>\n",
       "      <td>East Asia &amp; Pacific (developing only)</td>\n",
       "      <td>Adjusted net national income per capita (curre...</td>\n",
       "      <td>NY.ADJ.NNTY.PC.CD</td>\n",
       "      <td>1972.0</td>\n",
       "      <td>115.433579</td>\n",
       "    </tr>\n",
       "  </tbody>\n",
       "</table>\n",
       "</div>"
      ],
      "text/plain": [
       "                             CountryName_x CountryCode  \\\n",
       "0                               Arab World         ARB   \n",
       "1                   Caribbean small states         CSS   \n",
       "2           Central Europe and the Baltics         CEB   \n",
       "3  East Asia & Pacific (all income levels)         EAS   \n",
       "4    East Asia & Pacific (developing only)         EAP   \n",
       "\n",
       "                                     IndicatorName_x IndicatorCode_x  Year_x  \\\n",
       "0  Renewable internal freshwater resources per ca...  ER.H2O.INTR.PC    1972   \n",
       "1  Renewable internal freshwater resources per ca...  ER.H2O.INTR.PC    1972   \n",
       "2  Renewable internal freshwater resources per ca...  ER.H2O.INTR.PC    1972   \n",
       "3  Renewable internal freshwater resources per ca...  ER.H2O.INTR.PC    1972   \n",
       "4  Renewable internal freshwater resources per ca...  ER.H2O.INTR.PC    1972   \n",
       "\n",
       "        Value_x                            CountryName_y  \\\n",
       "0   1018.386484                                      NaN   \n",
       "1  77322.745771                   Caribbean small states   \n",
       "2   1690.781140                                      NaN   \n",
       "3   7565.189613  East Asia & Pacific (all income levels)   \n",
       "4   7463.472622    East Asia & Pacific (developing only)   \n",
       "\n",
       "                                     IndicatorName_y    IndicatorCode_y  \\\n",
       "0                                                NaN                NaN   \n",
       "1  Adjusted net national income per capita (curre...  NY.ADJ.NNTY.PC.CD   \n",
       "2                                                NaN                NaN   \n",
       "3  Adjusted net national income per capita (curre...  NY.ADJ.NNTY.PC.CD   \n",
       "4  Adjusted net national income per capita (curre...  NY.ADJ.NNTY.PC.CD   \n",
       "\n",
       "   Year_y     Value_y  \n",
       "0     NaN         NaN  \n",
       "1  1972.0  805.715154  \n",
       "2     NaN         NaN  \n",
       "3  1972.0  362.267143  \n",
       "4  1972.0  115.433579  "
      ]
     },
     "execution_count": 7,
     "metadata": {},
     "output_type": "execute_result"
    }
   ],
   "source": [
    "# Create dictionaries of dataframes resulting from merging df of water with each of the two wealth variables\n",
    "dfh2oinc = {}\n",
    "dfh2ogdp = {}\n",
    "for rptyr in rptyrs:\n",
    "    dfh2oinc[rptyr] = dfh2oyr[rptyr].merge(dfincyr[rptyr], on=['CountryCode'],how='left')\n",
    "    dfh2ogdp[rptyr] = dfh2oyr[rptyr].merge(dfgdpyr[rptyr], on=['CountryCode'],how='left')\n",
    "dfh2oinc[rptyrs[0]].head()"
   ]
  },
  {
   "cell_type": "code",
   "execution_count": 8,
   "metadata": {},
   "outputs": [
    {
     "data": {
      "text/html": [
       "<div>\n",
       "<style scoped>\n",
       "    .dataframe tbody tr th:only-of-type {\n",
       "        vertical-align: middle;\n",
       "    }\n",
       "\n",
       "    .dataframe tbody tr th {\n",
       "        vertical-align: top;\n",
       "    }\n",
       "\n",
       "    .dataframe thead th {\n",
       "        text-align: right;\n",
       "    }\n",
       "</style>\n",
       "<table border=\"1\" class=\"dataframe\">\n",
       "  <thead>\n",
       "    <tr style=\"text-align: right;\">\n",
       "      <th></th>\n",
       "      <th>CountryName_x</th>\n",
       "      <th>CountryCode</th>\n",
       "      <th>IndicatorName_x</th>\n",
       "      <th>IndicatorCode_x</th>\n",
       "      <th>Year_x</th>\n",
       "      <th>Value_x</th>\n",
       "      <th>CountryName_y</th>\n",
       "      <th>IndicatorName_y</th>\n",
       "      <th>IndicatorCode_y</th>\n",
       "      <th>Year_y</th>\n",
       "      <th>Value_y</th>\n",
       "    </tr>\n",
       "  </thead>\n",
       "  <tbody>\n",
       "    <tr>\n",
       "      <th>0</th>\n",
       "      <td>Arab World</td>\n",
       "      <td>ARB</td>\n",
       "      <td>Renewable internal freshwater resources per ca...</td>\n",
       "      <td>ER.H2O.INTR.PC</td>\n",
       "      <td>1972</td>\n",
       "      <td>1018.386484</td>\n",
       "      <td>Arab World</td>\n",
       "      <td>GDP per capita (current US$)</td>\n",
       "      <td>NY.GDP.PCAP.CD</td>\n",
       "      <td>1972.0</td>\n",
       "      <td>333.235847</td>\n",
       "    </tr>\n",
       "    <tr>\n",
       "      <th>1</th>\n",
       "      <td>Caribbean small states</td>\n",
       "      <td>CSS</td>\n",
       "      <td>Renewable internal freshwater resources per ca...</td>\n",
       "      <td>ER.H2O.INTR.PC</td>\n",
       "      <td>1972</td>\n",
       "      <td>77322.745771</td>\n",
       "      <td>Caribbean small states</td>\n",
       "      <td>GDP per capita (current US$)</td>\n",
       "      <td>NY.GDP.PCAP.CD</td>\n",
       "      <td>1972.0</td>\n",
       "      <td>943.824568</td>\n",
       "    </tr>\n",
       "    <tr>\n",
       "      <th>3</th>\n",
       "      <td>East Asia &amp; Pacific (all income levels)</td>\n",
       "      <td>EAS</td>\n",
       "      <td>Renewable internal freshwater resources per ca...</td>\n",
       "      <td>ER.H2O.INTR.PC</td>\n",
       "      <td>1972</td>\n",
       "      <td>7565.189613</td>\n",
       "      <td>East Asia &amp; Pacific (all income levels)</td>\n",
       "      <td>GDP per capita (current US$)</td>\n",
       "      <td>NY.GDP.PCAP.CD</td>\n",
       "      <td>1972.0</td>\n",
       "      <td>410.692798</td>\n",
       "    </tr>\n",
       "    <tr>\n",
       "      <th>4</th>\n",
       "      <td>East Asia &amp; Pacific (developing only)</td>\n",
       "      <td>EAP</td>\n",
       "      <td>Renewable internal freshwater resources per ca...</td>\n",
       "      <td>ER.H2O.INTR.PC</td>\n",
       "      <td>1972</td>\n",
       "      <td>7463.472622</td>\n",
       "      <td>East Asia &amp; Pacific (developing only)</td>\n",
       "      <td>GDP per capita (current US$)</td>\n",
       "      <td>NY.GDP.PCAP.CD</td>\n",
       "      <td>1972.0</td>\n",
       "      <td>130.858703</td>\n",
       "    </tr>\n",
       "    <tr>\n",
       "      <th>5</th>\n",
       "      <td>Euro area</td>\n",
       "      <td>EMU</td>\n",
       "      <td>Renewable internal freshwater resources per ca...</td>\n",
       "      <td>ER.H2O.INTR.PC</td>\n",
       "      <td>1972</td>\n",
       "      <td>3359.401872</td>\n",
       "      <td>Euro area</td>\n",
       "      <td>GDP per capita (current US$)</td>\n",
       "      <td>NY.GDP.PCAP.CD</td>\n",
       "      <td>1972.0</td>\n",
       "      <td>3019.343670</td>\n",
       "    </tr>\n",
       "  </tbody>\n",
       "</table>\n",
       "</div>"
      ],
      "text/plain": [
       "                             CountryName_x CountryCode  \\\n",
       "0                               Arab World         ARB   \n",
       "1                   Caribbean small states         CSS   \n",
       "3  East Asia & Pacific (all income levels)         EAS   \n",
       "4    East Asia & Pacific (developing only)         EAP   \n",
       "5                                Euro area         EMU   \n",
       "\n",
       "                                     IndicatorName_x IndicatorCode_x  Year_x  \\\n",
       "0  Renewable internal freshwater resources per ca...  ER.H2O.INTR.PC    1972   \n",
       "1  Renewable internal freshwater resources per ca...  ER.H2O.INTR.PC    1972   \n",
       "3  Renewable internal freshwater resources per ca...  ER.H2O.INTR.PC    1972   \n",
       "4  Renewable internal freshwater resources per ca...  ER.H2O.INTR.PC    1972   \n",
       "5  Renewable internal freshwater resources per ca...  ER.H2O.INTR.PC    1972   \n",
       "\n",
       "        Value_x                            CountryName_y  \\\n",
       "0   1018.386484                               Arab World   \n",
       "1  77322.745771                   Caribbean small states   \n",
       "3   7565.189613  East Asia & Pacific (all income levels)   \n",
       "4   7463.472622    East Asia & Pacific (developing only)   \n",
       "5   3359.401872                                Euro area   \n",
       "\n",
       "                IndicatorName_y IndicatorCode_y  Year_y      Value_y  \n",
       "0  GDP per capita (current US$)  NY.GDP.PCAP.CD  1972.0   333.235847  \n",
       "1  GDP per capita (current US$)  NY.GDP.PCAP.CD  1972.0   943.824568  \n",
       "3  GDP per capita (current US$)  NY.GDP.PCAP.CD  1972.0   410.692798  \n",
       "4  GDP per capita (current US$)  NY.GDP.PCAP.CD  1972.0   130.858703  \n",
       "5  GDP per capita (current US$)  NY.GDP.PCAP.CD  1972.0  3019.343670  "
      ]
     },
     "execution_count": 8,
     "metadata": {},
     "output_type": "execute_result"
    }
   ],
   "source": [
    "# Create dfs of previous with na values removed\n",
    "dfh2oinc_notna = {}\n",
    "dfh2ogdp_notna = {}\n",
    "for rptyr in rptyrs:\n",
    "    dfh2oinc_notna[rptyr] = dfh2oinc[rptyr][dfh2oinc[rptyr]['CountryName_y'].notna()]\n",
    "    dfh2ogdp_notna[rptyr] = dfh2ogdp[rptyr][dfh2ogdp[rptyr]['CountryName_y'].notna()]\n",
    "dfh2ogdp_notna[rptyrs[0]].head()"
   ]
  },
  {
   "cell_type": "code",
   "execution_count": 9,
   "metadata": {},
   "outputs": [
    {
     "data": {
      "text/plain": [
       "({1972: -0.0710226095741211, 2012: 0.08639238000373058},\n",
       " {1972: 0.0686811397001213, 2012: 0.08209193071844664})"
      ]
     },
     "execution_count": 9,
     "metadata": {},
     "output_type": "execute_result"
    }
   ],
   "source": [
    "# Compute correlations\n",
    "corrh2oinc = {}\n",
    "corrh2ogdp = {}\n",
    "for rptyr in rptyrs:\n",
    "    corrh2oinc[rptyr] = dfh2oinc_notna[rptyr]['Value_x'].corr(dfh2oinc_notna[rptyr]['Value_y'])\n",
    "    corrh2ogdp[rptyr] = dfh2ogdp_notna[rptyr]['Value_x'].corr(dfh2ogdp_notna[rptyr]['Value_y'])\n",
    "\n",
    "corrh2oinc, corrh2ogdp"
   ]
  },
  {
   "cell_type": "code",
   "execution_count": 10,
   "metadata": {},
   "outputs": [],
   "source": [
    "%matplotlib inline"
   ]
  },
  {
   "cell_type": "code",
   "execution_count": 11,
   "metadata": {},
   "outputs": [
    {
     "data": {
      "image/png": "[encoded data removed]",
      "text/plain": [
       "<Figure size 432x288 with 1 Axes>"
      ]
     },
     "metadata": {},
     "output_type": "display_data"
    },
    {
     "data": {
      "image/png": "[encoded data removed]",
      "text/plain": [
       "<Figure size 432x288 with 1 Axes>"
      ]
     },
     "metadata": {},
     "output_type": "display_data"
    }
   ],
   "source": [
    "# Generate scatter plots for water vs per capita income for the report years\n",
    "for rptyr in rptyrs:\n",
    "    plt.scatter(dfh2oinc_notna[rptyr]['Value_x'],dfh2oinc_notna[rptyr]['Value_y'])\n",
    "    # Label the axes\n",
    "    plt.xlabel('Adjusted net national income per capita (current US$)')\n",
    "    plt.ylabel('Renewable internal freshwater resources\\nper capita (cubic meters)')\n",
    "\n",
    "    #label the figure\n",
    "    plt.title('{0} - Water vs Wealth (per capita income)\\nCorr={1}'.format(str(rptyr),str(corrh2oinc[rptyr])))\n",
    "    plt.tight_layout()\n",
    "    plt.savefig('D:/PjtData/4_PD/edX_DSE200x/wk6_MiniPrj/{0}.png'.format('plth2oinc'+str(rptyr)))\n",
    "    plt.show()"
   ]
  },
  {
   "cell_type": "code",
   "execution_count": 12,
   "metadata": {},
   "outputs": [
    {
     "data": {
      "image/png": "[encoded data removed]",
      "text/plain": [
       "<Figure size 432x288 with 1 Axes>"
      ]
     },
     "metadata": {},
     "output_type": "display_data"
    },
    {
     "data": {
      "image/png": "[encoded data removed]",
      "text/plain": [
       "<Figure size 432x288 with 1 Axes>"
      ]
     },
     "metadata": {},
     "output_type": "display_data"
    }
   ],
   "source": [
    "# Generate scatter plots for water vs per capita gdp for the report years\n",
    "for rptyr in rptyrs:\n",
    "    plt.scatter(dfh2ogdp_notna[rptyr]['Value_x'],dfh2ogdp_notna[rptyr]['Value_y'])\n",
    "    # Label the axes\n",
    "    plt.xlabel('GDP per capita (current US$)')\n",
    "    plt.ylabel('Renewable internal freshwater resources\\nper capita (cubic meters)')\n",
    "\n",
    "    #label the figure\n",
    "    plt.title('{0} - Water vs Wealth (per capita gdp)\\nCorr={1}'.format(str(rptyr),str(corrh2ogdp[rptyr])))\n",
    "    plt.tight_layout()\n",
    "    plt.savefig('D:/PjtData/4_PD/edX_DSE200x/wk6_MiniPrj/{0}.png'.format('plth2ogdp'+str(rptyr)))\n",
    "    plt.show()"
   ]
  },
  {
   "cell_type": "code",
   "execution_count": null,
   "metadata": {},
   "outputs": [],
   "source": []
  }
 ],
 "metadata": {
  "kernelspec": {
   "display_name": "Python 3",
   "language": "python",
   "name": "python3"
  },
  "language_info": {
   "codemirror_mode": {
    "name": "ipython",
    "version": 3
   },
   "file_extension": ".py",
   "mimetype": "text/x-python",
   "name": "python",
   "nbconvert_exporter": "python",
   "pygments_lexer": "ipython3",
   "version": "3.6.4"
  }
 },
 "nbformat": 4,
 "nbformat_minor": 2
}
