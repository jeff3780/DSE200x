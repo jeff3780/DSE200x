{
 "cells": [
  {
   "cell_type": "markdown",
   "metadata": {},
   "source": [
    "Week 6 Mini-project by Jeff Puuri\n",
    "for EdX course DSE200x - Python for Data Science\n",
    "\n",
    "References:\n",
    "Slide Template: https://docs.google.com/presentation/d/1CAXnIH7ctHePs-TVeWVKafB9c1-mxmdEKE8_ntzY_M0/edit#slide=id.g1e0c2d5179_0_5\n",
    "Mini-Project Description page: https://courses.edx.org/courses/course-v1:UCSanDiegoX+DSE200x+1T2018/courseware/82d46c5420924002ab6738f6c33aea53/77277bfa5b904ac79099930f7369dd18/1?activate_block_id=block-v1%3AUCSanDiegoX%2BDSE200x%2B1T2018%2Btype%40html%2Bblock%40a7c4de0902c3413abef80f135201c19c\n",
    "\n"
   ]
  }
 ],
 "metadata": {
  "kernelspec": {
   "display_name": "Python 3",
   "language": "python",
   "name": "python3"
  },
  "language_info": {
   "codemirror_mode": {
    "name": "ipython",
    "version": 3
   },
   "file_extension": ".py",
   "mimetype": "text/x-python",
   "name": "python",
   "nbconvert_exporter": "python",
   "pygments_lexer": "ipython3",
   "version": "3.6.4"
  }
 },
 "nbformat": 4,
 "nbformat_minor": 2
}
