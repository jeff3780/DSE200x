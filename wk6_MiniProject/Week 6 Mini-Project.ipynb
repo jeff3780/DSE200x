{
 "cells": [
  {
   "cell_type": "markdown",
   "metadata": {},
   "source": [
    "Week 6 Mini-project\n",
    "by Jeff Puuri\n",
    "for EdX course DSE200x - Python for Data Science\n",
    "\n",
    "References:\n",
    "Slide Template: https://docs.google.com/presentation/d/1CAXnIH7ctHePs-TVeWVKafB9c1-mxmdEKE8_ntzY_M0/edit#slide=id.g1e0c2d5179_0_5\n",
    "Mini-Project Description page: https://courses.edx.org/courses/course-v1:UCSanDiegoX+DSE200x+1T2018/courseware/82d46c5420924002ab6738f6c33aea53/77277bfa5b904ac79099930f7369dd18/1?activate_block_id=block-v1%3AUCSanDiegoX%2BDSE200x%2B1T2018%2Btype%40html%2Bblock%40a7c4de0902c3413abef80f135201c19c\n",
    "\n",
    "Data Exploration to figure out a project...\n",
    "\n",
    "Pick a dataset: I'm a GIS guy, so it needs to be world indicators\n",
    "\n",
    "Lots of variables, so find a couple to be of interest and value for a study"
   ]
  },
  {
   "cell_type": "code",
   "execution_count": 2,
   "metadata": {},
   "outputs": [],
   "source": [
    "# Using NBs from wk 5, import the libraries we'll need\n",
    "import pandas as pd\n",
    "import numpy as np\n",
    "#import random\n",
    "import matplotlib.pyplot as plt\n",
    "import folium"
   ]
  },
  {
   "cell_type": "code",
<<<<<<< HEAD
   "execution_count": 3,
=======
   "execution_count": 2,
>>>>>>> 4845ec726aac83557551dd1532cf580f58906931
   "metadata": {},
   "outputs": [
    {
     "data": {
      "text/plain": [
       "(5656458, 6)"
      ]
     },
<<<<<<< HEAD
     "execution_count": 3,
=======
     "execution_count": 2,
>>>>>>> 4845ec726aac83557551dd1532cf580f58906931
     "metadata": {},
     "output_type": "execute_result"
    }
   ],
   "source": [
    "# Read in the data once injto a dataframe named df, it is a big dataset\n",
    "#df = pd.read_csv('D:/PjtData/4_PD/edX_DSE200x/wk5_Matplotlib/Indicators.csv')\n",
    "df = pd.read_csv('C:/PrjData/4_PD/DSE200x/wk5_Matplotlib/Indicators.csv')\n",
    "df.shape"
   ]
  },
  {
   "cell_type": "code",
<<<<<<< HEAD
   "execution_count": 4,
=======
   "execution_count": 3,
>>>>>>> 4845ec726aac83557551dd1532cf580f58906931
   "metadata": {},
   "outputs": [
    {
     "data": {
      "text/plain": [
       "Index(['CountryName', 'CountryCode', 'IndicatorName', 'IndicatorCode', 'Year',\n",
       "       'Value'],\n",
       "      dtype='object')"
      ]
     },
<<<<<<< HEAD
     "execution_count": 4,
=======
     "execution_count": 3,
>>>>>>> 4845ec726aac83557551dd1532cf580f58906931
     "metadata": {},
     "output_type": "execute_result"
    }
   ],
   "source": [
    "# Here's the list of columns to use for future filters\n",
    "df.columns"
   ]
  },
  {
   "cell_type": "code",
<<<<<<< HEAD
   "execution_count": 5,
=======
   "execution_count": 4,
>>>>>>> 4845ec726aac83557551dd1532cf580f58906931
   "metadata": {},
   "outputs": [
    {
     "data": {
      "text/plain": [
       "pandas.core.frame.DataFrame"
      ]
     },
<<<<<<< HEAD
     "execution_count": 5,
=======
     "execution_count": 4,
>>>>>>> 4845ec726aac83557551dd1532cf580f58906931
     "metadata": {},
     "output_type": "execute_result"
    }
   ],
   "source": [
    "# Variables are going to be in the IndicatorName column, so look at what is available\n",
    "# via .unique() which produces a numpy ndarray, so must cast back to pandas dataframe\n",
    "# to export to excel so that I can see the list \n",
    "indicator_list = pd.DataFrame(df['IndicatorName'].unique())\n",
    "type(indicator_list)"
   ]
  },
  {
   "cell_type": "code",
<<<<<<< HEAD
   "execution_count": null,
   "metadata": {},
   "outputs": [],
   "source": []
  },
  {
   "cell_type": "code",
   "execution_count": 11,
   "metadata": {},
   "outputs": [],
   "source": [
    "# Send to Excel for interactive filter and sort tools to find interesting variables to study\n",
    "# Comment this out once variable are decided because we don't need to regenerate the spreadsheet time after time,\n",
    "# but leave it here so others can see the methodology and tools used during data exploration\n",
    "indicator_list.to_excel('D:/PjtData/4_PD/edX_DSE200x/wk5_Matplotlib/Indicators.xlsx', sheet_name='Indicators')"
=======
   "execution_count": 5,
   "metadata": {},
   "outputs": [],
   "source": [
    "#indicator_list.to_excel('D:/PjtData/4_PD/edX_DSE200x/wk5_Matplotlib/Indicators.xlsx', sheet_name='Indicators')\n",
    "indicator_list.to_excel('C:/PrjData/4_PD/DSE200x/Wk6_MiniPrj/Indicators.xlsx', sheet_name='Indicators')"
   ]
  },
  {
   "cell_type": "markdown",
   "metadata": {},
   "source": [
    "Here's some interesting ones, searching for indicators w/per capita:\n",
    "* GDP per capita growth (annual %)\n",
    "* Adjusted net national income per capita (current US$)\n",
    "* Adjusted net national income per capita (annual % growth)\n"
>>>>>>> 4845ec726aac83557551dd1532cf580f58906931
   ]
  },
  {
   "cell_type": "markdown",
   "metadata": {},
   "source": [
    "After review in Excel, going with:\n",
    "* Renewable internal freshwater resources per capita (cubic meters)\n",
    "* GDP per capita (current US\\$), or maybe\n",
    "* Adjusted net national income per capita (current US$)\n",
    "\n",
    "Because it is reported there is a water crisis in developing countries,\n",
    "I would like to see the disparity in terms of: per capita GDP or income "
   ]
  },
  {
   "cell_type": "code",
   "execution_count": null,
   "metadata": {},
   "outputs": [],
   "source": []
  }
 ],
 "metadata": {
  "kernelspec": {
   "display_name": "Python 3",
   "language": "python",
   "name": "python3"
  },
  "language_info": {
   "codemirror_mode": {
    "name": "ipython",
    "version": 3
   },
   "file_extension": ".py",
   "mimetype": "text/x-python",
   "name": "python",
   "nbconvert_exporter": "python",
   "pygments_lexer": "ipython3",
   "version": "3.6.4"
  }
 },
 "nbformat": 4,
 "nbformat_minor": 2
}
