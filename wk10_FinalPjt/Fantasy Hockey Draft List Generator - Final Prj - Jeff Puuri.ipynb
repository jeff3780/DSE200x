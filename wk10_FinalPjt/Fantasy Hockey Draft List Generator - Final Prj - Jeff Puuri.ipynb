{
 "cells": [
  {
   "cell_type": "markdown",
   "metadata": {},
   "source": [
    "# Fantasy Hockey Draft List Generator\n",
    "** Final Project for DSE200x by Jeff Puuri **\n",
    "\n",
    "Abstract: In 2017, it was estimated that there were over 50 million participants in online fantasy sports.  Participation in fantasy sports is a leisure activity, but many play for money as well as pride.\n",
    "\n",
    "Drafting the best team at the start of each season is a major key to a successful season as measured by winning one's league, or finishing 'in the money' (usually the top 3 spots).  In helping participants prepare for a draft, many online leagues provide a suggested draft list, that ranks sports players' projected performance in the upcoming season based on last year's stats only.  It can be shown, based on average draft position, that league-provided suggested draft lists are the predominant source for draft selections.\n",
    "\n",
    "Are these league-provided draft lists, the best source for one's draft choices?  Or is it possible to apply data science to create an improved draft list of players, based on more than just last years stats, that can provide a fantasy participant with an advantage at draft time over those using the draft list provided by the online fantasy host?\n",
    "\n",
    "The goal in drafting a better team is to give one a better chance of their team finishing the season in the top spots, providing enhanced enjoyment, pride, and possible winnings in leagues that play for money.\n",
    "\n",
    "This project study will produce a model for Fantasy Hockey, which is a current interest of mine, and in which I have participated with the same league for over ten years.  However, I would like to demonstrate that this same model could be extended to other fantasy sports."
   ]
  },
  {
   "cell_type": "code",
   "execution_count": null,
   "metadata": {},
   "outputs": [],
   "source": []
  }
 ],
 "metadata": {
  "kernelspec": {
   "display_name": "Python 3",
   "language": "python",
   "name": "python3"
  },
  "language_info": {
   "codemirror_mode": {
    "name": "ipython",
    "version": 3
   },
   "file_extension": ".py",
   "mimetype": "text/x-python",
   "name": "python",
   "nbconvert_exporter": "python",
   "pygments_lexer": "ipython3",
   "version": "3.6.4"
  }
 },
 "nbformat": 4,
 "nbformat_minor": 2
}
