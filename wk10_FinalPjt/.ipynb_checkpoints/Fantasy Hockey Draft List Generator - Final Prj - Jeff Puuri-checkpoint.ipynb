{
 "cells": [
  {
   "cell_type": "markdown",
   "metadata": {},
   "source": [
    "# Fantasy Hockey Draft List Generator\n",
    "** Final Project for DSE200x by Jeff Puuri **\n",
    "\n",
    "Abstract: In 2017, it was estimated that there were over 50 million participants in online fantasy sports.  Participation in fantasy sports is a leisure activity, but many play for money as well as pride.\n",
    "\n",
    "Drafting the best team at the start of each season is a major key to a successful season as measured by winning one's league, or finishing 'in the money' (usually the top 3 spots).  In helping participants prepare for a draft, many online leagues provide a suggested draft list, based on 'expert' advice, that ranks sports players' projected performance in the upcoming season that rely mainly on last year's player stats only.  It can be shown, based on average draft position, that league-provided suggested draft lists are the predominant source for draft selections.\n",
    "\n",
    "Are these league-provided draft lists, the best source for one's draft choices?  Or is it possible to apply data science to create an improved draft list of players, based on more than just last years stats, that can provide a fantasy participant with an advantage at draft time over those using the draft list provided by the online fantasy host?\n",
    "\n",
    "The goal in drafting a better team is to give one a better chance of their team finishing the season in the top spots, providing enhanced enjoyment, pride, and possible winnings in leagues that play for money.\n",
    "\n",
    "This project study will produce a model for Fantasy Hockey using Yahoo Sports, the online service in which I have participated with same league for over ten years.  Therefore I will use the same statistical categories that are used by my league.  Although the model produced by this study is specific to the sport of hockey and a certain set of statsitical categories used by my leagues, I would like to demonstrate that this approach could be extended to other fantasy sports and the statistical categories defined for a participant's particular league.\n",
    "\n",
    "One other note is that this study is geared towards season-long fantasy leagues, and not daily matchups that are becoming popular."
   ]
  },
  {
   "cell_type": "code",
   "execution_count": 15,
   "metadata": {},
   "outputs": [],
   "source": [
    "# import libraries to use\n",
    "import numpy as np\n",
    "import pandas as pd\n",
    "import matplotlib.pyplot as plt\n",
    "dataFolder = 'D:/PjtData/4_PD/edX_DSE200x/wk10_FinalPjt/'"
   ]
  },
  {
   "cell_type": "markdown",
   "metadata": {},
   "source": [
    "## Import Datasets\n",
    "The next step is to import the datasets that will be used in the analysis.  One set is going to contain the predicted and actual rankings from Yahoo Sports for all players for the 2017-18 season (ranks).  The other contains the player statistics for 2004-2017 from Hockey-Reference.com that has been cleansed by a user through Kaggle (stats).  Finally we have the final stats for the 2017-18 season that I downloaded myself from Hockey-Reference.com into a csv file (stats18).\n"
   ]
  },
  {
   "cell_type": "code",
   "execution_count": 16,
   "metadata": {},
   "outputs": [],
   "source": [
    "statsFile = 'NHLKaggleStats.csv'\n",
    "ranksFile = 'YahooPlayerRanks.csv'\n",
    "stats18File = 'NHLHockeyRef18.csv'\n",
    "statsDF = pd.read_csv(dataFolder + statsFile)\n",
    "ranksDF = pd.read_csv(dataFolder + ranksFile)\n",
    "statsDF18 = pd.read_csv(dataFolder + stats18File)"
   ]
  },
  {
   "cell_type": "markdown",
   "metadata": {},
   "source": [
    "## Remove unnecessary columns - Ranks\n",
    "Each of the raw datasets contains statistical columns that are not part of the Yahoo Fantasy Hockey scoring criteria, therefore they can be removed to unclutter upcoming dataframe displays.  The following columns are considered for the scoring criteria: G = Goals, A = Assists, PM = Plus/Minus, PIM = Penalties in Minutes, PPP=Power Play Points, GWG = Game Winning Goals, SOG = Shots on Goal, HIT = Hits, BLK = Blocked shots.  We need to keep the GP = Games Played column for normalizing stats in a later step, and the PreSeasonRank and EndSeasonRank columns for comparing the model results.  We also keep PlayerName, Team, and Pos(ition) for identification purposes in visualizations and reports."
   ]
  },
  {
   "cell_type": "code",
   "execution_count": 17,
   "metadata": {},
   "outputs": [
    {
     "data": {
      "text/plain": [
       "Index(['PlayerName', 'Team', 'Pos', 'GP', 'PreSeasonRank', 'EndSeasonRank',\n",
       "       'TOIperGP', 'G', 'A', 'PM', 'PIM', 'PPP', 'GWG', 'SOG', 'HIT', 'BLK'],\n",
       "      dtype='object')"
      ]
     },
     "execution_count": 17,
     "metadata": {},
     "output_type": "execute_result"
    }
   ],
   "source": [
    "ranksDF.columns"
   ]
  },
  {
   "cell_type": "code",
   "execution_count": 18,
   "metadata": {},
   "outputs": [
    {
     "data": {
      "text/plain": [
       "Index(['PlayerName', 'Team', 'Pos', 'GP', 'PreSeasonRank', 'EndSeasonRank',\n",
       "       'G', 'A', 'PM', 'PIM', 'PPP', 'GWG', 'SOG', 'HIT', 'BLK'],\n",
       "      dtype='object')"
      ]
     },
     "execution_count": 18,
     "metadata": {},
     "output_type": "execute_result"
    }
   ],
   "source": [
    "del(ranksDF['TOIperGP'])\n",
    "ranksDF.columns"
   ]
  },
  {
   "cell_type": "markdown",
   "metadata": {},
   "source": [
    "## Remove unnecessary columns - Stats\n",
    "Keep the same corresponding columns from the Kaggle/Hockey Reference sources, and then rename the columns to align with the Yahoo naming"
   ]
  },
  {
   "cell_type": "code",
   "execution_count": 19,
   "metadata": {},
   "outputs": [
    {
     "data": {
      "text/plain": [
       "Index(['HockeyRefID', 'Player', 'Age', 'Tm', 'Pos', 'GP', 'G', 'A', 'PTS',\n",
       "       'PM', 'PIM', 'PS', 'EVG', 'PPG', 'SHG', 'GWG', 'EVA', 'PPA', 'SHA',\n",
       "       'SOG', 'SPCT', 'TOI', 'ATOI', 'BLK', 'HIT', 'FOW', 'FOL', 'FOPCT',\n",
       "       'HART', 'Votes', 'Season'],\n",
       "      dtype='object')"
      ]
     },
     "execution_count": 19,
     "metadata": {},
     "output_type": "execute_result"
    }
   ],
   "source": [
    "statsDF.columns"
   ]
  },
  {
   "cell_type": "code",
   "execution_count": 20,
   "metadata": {},
   "outputs": [
    {
     "data": {
      "text/plain": [
       "Index(['HockeyRefID', 'PlayerName', 'Team', 'Pos', 'GP', 'G', 'A', 'PM', 'PIM',\n",
       "       'PPP', 'GWG', 'SOG', 'HIT', 'BLK', 'Season'],\n",
       "      dtype='object')"
      ]
     },
     "execution_count": 20,
     "metadata": {},
     "output_type": "execute_result"
    }
   ],
   "source": [
    "statsDF['PPP'] = statsDF['PPG'] + statsDF['PPA']\n",
    "statsDF.drop(['Age', 'PTS', 'PS', 'EVG', 'PPG', 'SHG', 'EVA', 'PPA', 'SHA', 'SPCT', 'TOI', 'ATOI', 'FOW', 'FOL', 'FOPCT', 'HART', 'Votes'], axis=1, inplace=True)\n",
    "statsDF.rename({'Player':'PlayerName', 'Tm':'Team'}, axis='columns', inplace='True')\n",
    "statsDF = statsDF[['HockeyRefID', 'PlayerName', 'Team', 'Pos', 'GP', 'G', 'A', 'PM', 'PIM', 'PPP', 'GWG', 'SOG', 'HIT', 'BLK', 'Season']]\n",
    "statsDF.columns"
   ]
  },
  {
   "cell_type": "code",
   "execution_count": 21,
   "metadata": {},
   "outputs": [
    {
     "data": {
      "text/plain": [
       "Index(['HockeyRefID', 'Player', 'Age', 'Tm', 'Pos', 'GP', 'G', 'A', 'PTS',\n",
       "       'PM', 'PIM', 'PS', 'EVG', 'PPG', 'SHG', 'GWG', 'EVA', 'PPA', 'SHA',\n",
       "       'SOG', 'SPCT', 'TOI', 'ATOI', 'BLK', 'HIT', 'FOW', 'FOL', 'FOPCT'],\n",
       "      dtype='object')"
      ]
     },
     "execution_count": 21,
     "metadata": {},
     "output_type": "execute_result"
    }
   ],
   "source": [
    "statsDF18.columns"
   ]
  },
  {
   "cell_type": "code",
   "execution_count": 22,
   "metadata": {},
   "outputs": [
    {
     "data": {
      "text/plain": [
       "Index(['HockeyRefID', 'PlayerName', 'Team', 'Pos', 'GP', 'G', 'A', 'PM', 'PIM',\n",
       "       'PPP', 'GWG', 'SOG', 'HIT', 'BLK', 'Season'],\n",
       "      dtype='object')"
      ]
     },
     "execution_count": 22,
     "metadata": {},
     "output_type": "execute_result"
    }
   ],
   "source": [
    "statsDF18['PPP'] = statsDF18['PPG'] + statsDF18['PPA']\n",
    "statsDF18['Season'] = 2018\n",
    "statsDF18.drop(['Age', 'PTS', 'PS', 'EVG', 'PPG', 'SHG', 'EVA', 'PPA', 'SHA', 'SPCT', 'TOI', 'ATOI', 'FOW', 'FOL', 'FOPCT'], axis=1, inplace=True)\n",
    "statsDF18.rename({'Player':'PlayerName', 'Tm':'Team'}, axis='columns', inplace='True')\n",
    "statsDF18 = statsDF18[['HockeyRefID', 'PlayerName', 'Team', 'Pos', 'GP', 'G', 'A', 'PM', 'PIM', 'PPP', 'GWG', 'SOG', 'HIT', 'BLK', 'Season']]\n",
    "statsDF18.columns"
   ]
  },
  {
   "cell_type": "code",
   "execution_count": 23,
   "metadata": {},
   "outputs": [],
   "source": [
    "# Slice the stats dataset to contain rows for just the seasons we need (2015-2017)\n",
    "statsSeasons = [2015, 2016, 2017]\n",
    "statsDF = statsDF[statsDF['Season'].isin(statsSeasons)]"
   ]
  },
  {
   "cell_type": "code",
   "execution_count": 24,
   "metadata": {},
   "outputs": [
    {
     "data": {
      "text/plain": [
       "(2668, 15)"
      ]
     },
     "execution_count": 24,
     "metadata": {},
     "output_type": "execute_result"
    }
   ],
   "source": [
    "statsDF.shape"
   ]
  },
  {
   "cell_type": "markdown",
   "metadata": {},
   "source": [
    "## How good are the 'Expert' Rankings?\n",
    "Online leagues, including Yahoo, provide a ranking list, from 1 to n, with 1 being the best, based on their projections for player performance in the upcoming season based on scoring categories.  Per Yahoo on how they make their determinations: \"(Keep in mind these are the “x-rankings” for the players, i.e. the expert ranking based on last season’s performance and predictions for this season. This is the ranking used in the auto draft.)\"  Note that the ranking is mainly based on last year's performance.  [Another source](https://www.reddit.com/r/fantasybball/comments/25b9oc/how_does_yahoo_or_other_fantasy_sites_calculate/) reports the evaluation of last year's performance is based on what is called a z-score.  First, we will see how well the expert ranking for each player for this past season translated to their actual ranking by the end of the season.  Then, I would like to see if using a linear regression using the data from the past three seasons would have provided a preseason ranking that resulted in a better correlation.\n",
    "\n",
    "In the Yahoo statistics for each player, they provide a column for the pre-season ranking and the current ranking.  Since the NHL season has recently concluded, the dataset I downloaded will show how well the pre-season 'expert' rankings held up for this past season.  I renamed the current ranking column as reprted by Yahoo to EndSeasonRank to reflect this.  As you can see from the listing of the top 20 preseason ranks, who are typically drafted in the early rounds, some of the predictions were not too far off, but others are pretty bad.  This is just a subjective scan of the data right now.  After this, look at the statistical analysis of how close."
   ]
  },
  {
   "cell_type": "code",
   "execution_count": 25,
   "metadata": {},
   "outputs": [
    {
     "data": {
      "text/html": [
       "<div>\n",
       "<style scoped>\n",
       "    .dataframe tbody tr th:only-of-type {\n",
       "        vertical-align: middle;\n",
       "    }\n",
       "\n",
       "    .dataframe tbody tr th {\n",
       "        vertical-align: top;\n",
       "    }\n",
       "\n",
       "    .dataframe thead th {\n",
       "        text-align: right;\n",
       "    }\n",
       "</style>\n",
       "<table border=\"1\" class=\"dataframe\">\n",
       "  <thead>\n",
       "    <tr style=\"text-align: right;\">\n",
       "      <th></th>\n",
       "      <th>PlayerName</th>\n",
       "      <th>Team</th>\n",
       "      <th>Pos</th>\n",
       "      <th>GP</th>\n",
       "      <th>PreSeasonRank</th>\n",
       "      <th>EndSeasonRank</th>\n",
       "      <th>G</th>\n",
       "      <th>A</th>\n",
       "      <th>PM</th>\n",
       "      <th>PIM</th>\n",
       "      <th>PPP</th>\n",
       "      <th>GWG</th>\n",
       "      <th>SOG</th>\n",
       "      <th>HIT</th>\n",
       "      <th>BLK</th>\n",
       "    </tr>\n",
       "  </thead>\n",
       "  <tbody>\n",
       "    <tr>\n",
       "      <th>0</th>\n",
       "      <td>Connor McDavid</td>\n",
       "      <td>Edm</td>\n",
       "      <td>C</td>\n",
       "      <td>82</td>\n",
       "      <td>1</td>\n",
       "      <td>8</td>\n",
       "      <td>41</td>\n",
       "      <td>67</td>\n",
       "      <td>20</td>\n",
       "      <td>26</td>\n",
       "      <td>20</td>\n",
       "      <td>7</td>\n",
       "      <td>274</td>\n",
       "      <td>28</td>\n",
       "      <td>46</td>\n",
       "    </tr>\n",
       "    <tr>\n",
       "      <th>1</th>\n",
       "      <td>Sidney Crosby</td>\n",
       "      <td>Pit</td>\n",
       "      <td>C</td>\n",
       "      <td>82</td>\n",
       "      <td>2</td>\n",
       "      <td>11</td>\n",
       "      <td>29</td>\n",
       "      <td>60</td>\n",
       "      <td>0</td>\n",
       "      <td>46</td>\n",
       "      <td>38</td>\n",
       "      <td>6</td>\n",
       "      <td>247</td>\n",
       "      <td>75</td>\n",
       "      <td>36</td>\n",
       "    </tr>\n",
       "    <tr>\n",
       "      <th>2</th>\n",
       "      <td>Patrick Kane</td>\n",
       "      <td>Chi</td>\n",
       "      <td>RW</td>\n",
       "      <td>82</td>\n",
       "      <td>3</td>\n",
       "      <td>117</td>\n",
       "      <td>27</td>\n",
       "      <td>49</td>\n",
       "      <td>-20</td>\n",
       "      <td>32</td>\n",
       "      <td>22</td>\n",
       "      <td>4</td>\n",
       "      <td>285</td>\n",
       "      <td>18</td>\n",
       "      <td>14</td>\n",
       "    </tr>\n",
       "    <tr>\n",
       "      <th>3</th>\n",
       "      <td>Auston Matthews</td>\n",
       "      <td>Tor</td>\n",
       "      <td>C</td>\n",
       "      <td>62</td>\n",
       "      <td>4</td>\n",
       "      <td>93</td>\n",
       "      <td>34</td>\n",
       "      <td>29</td>\n",
       "      <td>25</td>\n",
       "      <td>12</td>\n",
       "      <td>13</td>\n",
       "      <td>5</td>\n",
       "      <td>187</td>\n",
       "      <td>16</td>\n",
       "      <td>61</td>\n",
       "    </tr>\n",
       "    <tr>\n",
       "      <th>4</th>\n",
       "      <td>Brent Burns</td>\n",
       "      <td>SJ</td>\n",
       "      <td>D</td>\n",
       "      <td>82</td>\n",
       "      <td>6</td>\n",
       "      <td>29</td>\n",
       "      <td>12</td>\n",
       "      <td>55</td>\n",
       "      <td>-16</td>\n",
       "      <td>46</td>\n",
       "      <td>27</td>\n",
       "      <td>2</td>\n",
       "      <td>332</td>\n",
       "      <td>79</td>\n",
       "      <td>136</td>\n",
       "    </tr>\n",
       "    <tr>\n",
       "      <th>5</th>\n",
       "      <td>Vladimir Tarasenko</td>\n",
       "      <td>StL</td>\n",
       "      <td>RW</td>\n",
       "      <td>80</td>\n",
       "      <td>7</td>\n",
       "      <td>39</td>\n",
       "      <td>33</td>\n",
       "      <td>33</td>\n",
       "      <td>15</td>\n",
       "      <td>17</td>\n",
       "      <td>16</td>\n",
       "      <td>5</td>\n",
       "      <td>306</td>\n",
       "      <td>89</td>\n",
       "      <td>37</td>\n",
       "    </tr>\n",
       "    <tr>\n",
       "      <th>6</th>\n",
       "      <td>Alex Ovechkin</td>\n",
       "      <td>Was</td>\n",
       "      <td>LW</td>\n",
       "      <td>82</td>\n",
       "      <td>8</td>\n",
       "      <td>3</td>\n",
       "      <td>49</td>\n",
       "      <td>38</td>\n",
       "      <td>3</td>\n",
       "      <td>32</td>\n",
       "      <td>31</td>\n",
       "      <td>7</td>\n",
       "      <td>355</td>\n",
       "      <td>139</td>\n",
       "      <td>21</td>\n",
       "    </tr>\n",
       "    <tr>\n",
       "      <th>7</th>\n",
       "      <td>Nikita Kucherov</td>\n",
       "      <td>TB</td>\n",
       "      <td>RW</td>\n",
       "      <td>80</td>\n",
       "      <td>9</td>\n",
       "      <td>6</td>\n",
       "      <td>39</td>\n",
       "      <td>61</td>\n",
       "      <td>15</td>\n",
       "      <td>42</td>\n",
       "      <td>36</td>\n",
       "      <td>7</td>\n",
       "      <td>279</td>\n",
       "      <td>31</td>\n",
       "      <td>15</td>\n",
       "    </tr>\n",
       "    <tr>\n",
       "      <th>8</th>\n",
       "      <td>Evgeni Malkin</td>\n",
       "      <td>Pit</td>\n",
       "      <td>C</td>\n",
       "      <td>78</td>\n",
       "      <td>10</td>\n",
       "      <td>2</td>\n",
       "      <td>42</td>\n",
       "      <td>56</td>\n",
       "      <td>16</td>\n",
       "      <td>87</td>\n",
       "      <td>38</td>\n",
       "      <td>7</td>\n",
       "      <td>239</td>\n",
       "      <td>48</td>\n",
       "      <td>32</td>\n",
       "    </tr>\n",
       "    <tr>\n",
       "      <th>9</th>\n",
       "      <td>Jack Eichel</td>\n",
       "      <td>Buf</td>\n",
       "      <td>C</td>\n",
       "      <td>67</td>\n",
       "      <td>11</td>\n",
       "      <td>181</td>\n",
       "      <td>25</td>\n",
       "      <td>39</td>\n",
       "      <td>-25</td>\n",
       "      <td>32</td>\n",
       "      <td>20</td>\n",
       "      <td>4</td>\n",
       "      <td>246</td>\n",
       "      <td>52</td>\n",
       "      <td>35</td>\n",
       "    </tr>\n",
       "    <tr>\n",
       "      <th>10</th>\n",
       "      <td>Jamie Benn</td>\n",
       "      <td>Dal</td>\n",
       "      <td>C,LW</td>\n",
       "      <td>82</td>\n",
       "      <td>12</td>\n",
       "      <td>5</td>\n",
       "      <td>36</td>\n",
       "      <td>43</td>\n",
       "      <td>20</td>\n",
       "      <td>54</td>\n",
       "      <td>22</td>\n",
       "      <td>7</td>\n",
       "      <td>241</td>\n",
       "      <td>140</td>\n",
       "      <td>62</td>\n",
       "    </tr>\n",
       "    <tr>\n",
       "      <th>11</th>\n",
       "      <td>Patrik Laine</td>\n",
       "      <td>Wpg</td>\n",
       "      <td>RW</td>\n",
       "      <td>82</td>\n",
       "      <td>13</td>\n",
       "      <td>19</td>\n",
       "      <td>44</td>\n",
       "      <td>26</td>\n",
       "      <td>8</td>\n",
       "      <td>24</td>\n",
       "      <td>31</td>\n",
       "      <td>8</td>\n",
       "      <td>241</td>\n",
       "      <td>74</td>\n",
       "      <td>43</td>\n",
       "    </tr>\n",
       "    <tr>\n",
       "      <th>12</th>\n",
       "      <td>Brad Marchand</td>\n",
       "      <td>Bos</td>\n",
       "      <td>LW</td>\n",
       "      <td>68</td>\n",
       "      <td>14</td>\n",
       "      <td>14</td>\n",
       "      <td>34</td>\n",
       "      <td>51</td>\n",
       "      <td>25</td>\n",
       "      <td>63</td>\n",
       "      <td>23</td>\n",
       "      <td>8</td>\n",
       "      <td>182</td>\n",
       "      <td>37</td>\n",
       "      <td>25</td>\n",
       "    </tr>\n",
       "    <tr>\n",
       "      <th>13</th>\n",
       "      <td>Leon Draisaitl</td>\n",
       "      <td>Edm</td>\n",
       "      <td>C,RW</td>\n",
       "      <td>78</td>\n",
       "      <td>16</td>\n",
       "      <td>275</td>\n",
       "      <td>25</td>\n",
       "      <td>45</td>\n",
       "      <td>-7</td>\n",
       "      <td>30</td>\n",
       "      <td>11</td>\n",
       "      <td>1</td>\n",
       "      <td>194</td>\n",
       "      <td>40</td>\n",
       "      <td>24</td>\n",
       "    </tr>\n",
       "    <tr>\n",
       "      <th>14</th>\n",
       "      <td>Erik Karlsson</td>\n",
       "      <td>Ott</td>\n",
       "      <td>D</td>\n",
       "      <td>71</td>\n",
       "      <td>17</td>\n",
       "      <td>195</td>\n",
       "      <td>9</td>\n",
       "      <td>53</td>\n",
       "      <td>-25</td>\n",
       "      <td>36</td>\n",
       "      <td>18</td>\n",
       "      <td>2</td>\n",
       "      <td>196</td>\n",
       "      <td>58</td>\n",
       "      <td>120</td>\n",
       "    </tr>\n",
       "    <tr>\n",
       "      <th>15</th>\n",
       "      <td>Victor Hedman</td>\n",
       "      <td>TB</td>\n",
       "      <td>D</td>\n",
       "      <td>77</td>\n",
       "      <td>18</td>\n",
       "      <td>13</td>\n",
       "      <td>17</td>\n",
       "      <td>46</td>\n",
       "      <td>32</td>\n",
       "      <td>54</td>\n",
       "      <td>26</td>\n",
       "      <td>1</td>\n",
       "      <td>216</td>\n",
       "      <td>139</td>\n",
       "      <td>110</td>\n",
       "    </tr>\n",
       "    <tr>\n",
       "      <th>16</th>\n",
       "      <td>Nicklas Backstrom</td>\n",
       "      <td>Was</td>\n",
       "      <td>C</td>\n",
       "      <td>81</td>\n",
       "      <td>19</td>\n",
       "      <td>77</td>\n",
       "      <td>21</td>\n",
       "      <td>50</td>\n",
       "      <td>5</td>\n",
       "      <td>46</td>\n",
       "      <td>26</td>\n",
       "      <td>4</td>\n",
       "      <td>165</td>\n",
       "      <td>37</td>\n",
       "      <td>51</td>\n",
       "    </tr>\n",
       "    <tr>\n",
       "      <th>17</th>\n",
       "      <td>Mark Scheifele</td>\n",
       "      <td>Wpg</td>\n",
       "      <td>C</td>\n",
       "      <td>60</td>\n",
       "      <td>20</td>\n",
       "      <td>205</td>\n",
       "      <td>23</td>\n",
       "      <td>37</td>\n",
       "      <td>19</td>\n",
       "      <td>18</td>\n",
       "      <td>16</td>\n",
       "      <td>3</td>\n",
       "      <td>125</td>\n",
       "      <td>57</td>\n",
       "      <td>31</td>\n",
       "    </tr>\n",
       "    <tr>\n",
       "      <th>18</th>\n",
       "      <td>John Tavares</td>\n",
       "      <td>NYI</td>\n",
       "      <td>C</td>\n",
       "      <td>82</td>\n",
       "      <td>21</td>\n",
       "      <td>69</td>\n",
       "      <td>37</td>\n",
       "      <td>47</td>\n",
       "      <td>-12</td>\n",
       "      <td>26</td>\n",
       "      <td>30</td>\n",
       "      <td>3</td>\n",
       "      <td>257</td>\n",
       "      <td>30</td>\n",
       "      <td>34</td>\n",
       "    </tr>\n",
       "    <tr>\n",
       "      <th>19</th>\n",
       "      <td>Dustin Byfuglien</td>\n",
       "      <td>Wpg</td>\n",
       "      <td>D</td>\n",
       "      <td>69</td>\n",
       "      <td>23</td>\n",
       "      <td>26</td>\n",
       "      <td>8</td>\n",
       "      <td>37</td>\n",
       "      <td>15</td>\n",
       "      <td>112</td>\n",
       "      <td>22</td>\n",
       "      <td>1</td>\n",
       "      <td>193</td>\n",
       "      <td>147</td>\n",
       "      <td>100</td>\n",
       "    </tr>\n",
       "  </tbody>\n",
       "</table>\n",
       "</div>"
      ],
      "text/plain": [
       "            PlayerName Team   Pos  GP  PreSeasonRank  EndSeasonRank   G   A  \\\n",
       "0       Connor McDavid  Edm     C  82              1              8  41  67   \n",
       "1        Sidney Crosby  Pit     C  82              2             11  29  60   \n",
       "2         Patrick Kane  Chi    RW  82              3            117  27  49   \n",
       "3      Auston Matthews  Tor     C  62              4             93  34  29   \n",
       "4          Brent Burns   SJ     D  82              6             29  12  55   \n",
       "5   Vladimir Tarasenko  StL    RW  80              7             39  33  33   \n",
       "6        Alex Ovechkin  Was    LW  82              8              3  49  38   \n",
       "7      Nikita Kucherov   TB    RW  80              9              6  39  61   \n",
       "8        Evgeni Malkin  Pit     C  78             10              2  42  56   \n",
       "9          Jack Eichel  Buf     C  67             11            181  25  39   \n",
       "10          Jamie Benn  Dal  C,LW  82             12              5  36  43   \n",
       "11        Patrik Laine  Wpg    RW  82             13             19  44  26   \n",
       "12       Brad Marchand  Bos    LW  68             14             14  34  51   \n",
       "13      Leon Draisaitl  Edm  C,RW  78             16            275  25  45   \n",
       "14       Erik Karlsson  Ott     D  71             17            195   9  53   \n",
       "15       Victor Hedman   TB     D  77             18             13  17  46   \n",
       "16   Nicklas Backstrom  Was     C  81             19             77  21  50   \n",
       "17      Mark Scheifele  Wpg     C  60             20            205  23  37   \n",
       "18        John Tavares  NYI     C  82             21             69  37  47   \n",
       "19    Dustin Byfuglien  Wpg     D  69             23             26   8  37   \n",
       "\n",
       "    PM  PIM  PPP  GWG  SOG  HIT  BLK  \n",
       "0   20   26   20    7  274   28   46  \n",
       "1    0   46   38    6  247   75   36  \n",
       "2  -20   32   22    4  285   18   14  \n",
       "3   25   12   13    5  187   16   61  \n",
       "4  -16   46   27    2  332   79  136  \n",
       "5   15   17   16    5  306   89   37  \n",
       "6    3   32   31    7  355  139   21  \n",
       "7   15   42   36    7  279   31   15  \n",
       "8   16   87   38    7  239   48   32  \n",
       "9  -25   32   20    4  246   52   35  \n",
       "10  20   54   22    7  241  140   62  \n",
       "11   8   24   31    8  241   74   43  \n",
       "12  25   63   23    8  182   37   25  \n",
       "13  -7   30   11    1  194   40   24  \n",
       "14 -25   36   18    2  196   58  120  \n",
       "15  32   54   26    1  216  139  110  \n",
       "16   5   46   26    4  165   37   51  \n",
       "17  19   18   16    3  125   57   31  \n",
       "18 -12   26   30    3  257   30   34  \n",
       "19  15  112   22    1  193  147  100  "
      ]
     },
     "execution_count": 25,
     "metadata": {},
     "output_type": "execute_result"
    }
   ],
   "source": [
    "ranksDF.head(20)"
   ]
  },
  {
   "cell_type": "markdown",
   "metadata": {},
   "source": [
    "Inthe rankings dataset, I only downloaded for a union of the top 100 preseason and top 100 endseason rankings.  There are over 900 players total in the NHL, but only the top players are eve drafted, so I limited the dataset for better visibility."
   ]
  },
  {
   "cell_type": "code",
   "execution_count": 26,
   "metadata": {},
   "outputs": [
    {
     "data": {
      "text/plain": [
       "(136, 15)"
      ]
     },
     "execution_count": 26,
     "metadata": {},
     "output_type": "execute_result"
    }
   ],
   "source": [
    "ranksDF.shape"
   ]
  },
  {
   "cell_type": "markdown",
   "metadata": {},
   "source": [
    "We learned about correlation in the course, so next will be a look at the correlation between Preseason and Endseason ranking, followed by a scatter plot to see what that looks like."
   ]
  },
  {
   "cell_type": "code",
   "execution_count": 27,
   "metadata": {},
   "outputs": [
    {
     "data": {
      "text/plain": [
       "-0.06867974836107163"
      ]
     },
     "execution_count": 27,
     "metadata": {},
     "output_type": "execute_result"
    }
   ],
   "source": [
    "rankCorr = ranksDF['PreSeasonRank'].corr(ranksDF['EndSeasonRank'])\n",
    "rankCorr"
   ]
  },
  {
   "cell_type": "markdown",
   "metadata": {},
   "source": [
    "Wow, that is interesting to see a negative correlation between the two variables!  What does the scatter chart look like?  One would hope to see a grouping along the line defined by y = mx + b where m(slope) is 1, and b(y-intercept) is 0"
   ]
  },
  {
   "cell_type": "code",
   "execution_count": 28,
   "metadata": {},
   "outputs": [
    {
     "data": {
      "image/png": "[encoded data removed]",
      "text/plain": [
       "<Figure size 432x288 with 1 Axes>"
      ]
     },
     "metadata": {},
     "output_type": "display_data"
    }
   ],
   "source": [
    "%matplotlib inline\n",
    "plt.scatter(ranksDF['PreSeasonRank'],ranksDF['EndSeasonRank'])\n",
    "# Label the axes\n",
    "plt.xlabel('Pre-season ranking')\n",
    "plt.ylabel('End-season (Actual) ranking')\n",
    "\n",
    "#label the figure\n",
    "plt.title('\\'Expert\\' rankings provided by Yahoo.  \\nCorr={0}'.format(str(rankCorr)))\n",
    "plt.tight_layout()\n",
    "plt.savefig(dataFolder + 'expertranks.png')\n",
    "plt.show()"
   ]
  },
  {
   "cell_type": "markdown",
   "metadata": {},
   "source": [
    "As we can see, the plot doesn't reflect this at all, so the rest of the analysis will try to make an improvement.  It is interesting to note that on the draft page from the Yahoo web site, the average draft position corresponds very closely to the Preseason rank.  This means that a large majority of fantasy participants use this 'expert' ranking in their draft.  As we can see this may not be the best advice.  If we can find a better predictor, then one should be able to obtain a draft advantage."
   ]
  },
  {
   "cell_type": "markdown",
   "metadata": {},
   "source": [
    "# Does the Z-score reflect the current ranking?\n",
    "As quoted previously, Yahoo uses the statistic called Z-score when computing the rankings.  In order to have a comparative, I need to confirm that the Z-score for the player's 2018 current year stats closesy correlates to their End of season ranking."
   ]
  },
  {
   "cell_type": "code",
   "execution_count": 49,
   "metadata": {},
   "outputs": [
    {
     "data": {
      "text/html": [
       "<div>\n",
       "<style scoped>\n",
       "    .dataframe tbody tr th:only-of-type {\n",
       "        vertical-align: middle;\n",
       "    }\n",
       "\n",
       "    .dataframe tbody tr th {\n",
       "        vertical-align: top;\n",
       "    }\n",
       "\n",
       "    .dataframe thead th {\n",
       "        text-align: right;\n",
       "    }\n",
       "</style>\n",
       "<table border=\"1\" class=\"dataframe\">\n",
       "  <thead>\n",
       "    <tr style=\"text-align: right;\">\n",
       "      <th></th>\n",
       "      <th>PlayerName</th>\n",
       "      <th>Team_x</th>\n",
       "      <th>EndSeasonRank</th>\n",
       "      <th>ZRnk</th>\n",
       "    </tr>\n",
       "  </thead>\n",
       "  <tbody>\n",
       "    <tr>\n",
       "      <th>0</th>\n",
       "      <td>Nathan MacKinnon</td>\n",
       "      <td>COL</td>\n",
       "      <td>1.0</td>\n",
       "      <td>1.0</td>\n",
       "    </tr>\n",
       "    <tr>\n",
       "      <th>1</th>\n",
       "      <td>Evgeni Malkin</td>\n",
       "      <td>PIT</td>\n",
       "      <td>2.0</td>\n",
       "      <td>2.0</td>\n",
       "    </tr>\n",
       "    <tr>\n",
       "      <th>2</th>\n",
       "      <td>Alex Ovechkin</td>\n",
       "      <td>WSH</td>\n",
       "      <td>3.0</td>\n",
       "      <td>3.0</td>\n",
       "    </tr>\n",
       "    <tr>\n",
       "      <th>4</th>\n",
       "      <td>Taylor Hall</td>\n",
       "      <td>NJD</td>\n",
       "      <td>4.0</td>\n",
       "      <td>5.0</td>\n",
       "    </tr>\n",
       "    <tr>\n",
       "      <th>5</th>\n",
       "      <td>Jamie Benn</td>\n",
       "      <td>DAL</td>\n",
       "      <td>5.0</td>\n",
       "      <td>6.0</td>\n",
       "    </tr>\n",
       "    <tr>\n",
       "      <th>3</th>\n",
       "      <td>Nikita Kucherov</td>\n",
       "      <td>TBL</td>\n",
       "      <td>6.0</td>\n",
       "      <td>4.0</td>\n",
       "    </tr>\n",
       "    <tr>\n",
       "      <th>22</th>\n",
       "      <td>Blake Wheeler</td>\n",
       "      <td>WPG</td>\n",
       "      <td>7.0</td>\n",
       "      <td>23.0</td>\n",
       "    </tr>\n",
       "    <tr>\n",
       "      <th>7</th>\n",
       "      <td>Connor McDavid</td>\n",
       "      <td>EDM</td>\n",
       "      <td>8.0</td>\n",
       "      <td>8.0</td>\n",
       "    </tr>\n",
       "    <tr>\n",
       "      <th>12</th>\n",
       "      <td>Tyler Seguin</td>\n",
       "      <td>DAL</td>\n",
       "      <td>9.0</td>\n",
       "      <td>13.0</td>\n",
       "    </tr>\n",
       "    <tr>\n",
       "      <th>10</th>\n",
       "      <td>Dustin Brown</td>\n",
       "      <td>LAK</td>\n",
       "      <td>10.0</td>\n",
       "      <td>11.0</td>\n",
       "    </tr>\n",
       "    <tr>\n",
       "      <th>14</th>\n",
       "      <td>Sidney Crosby</td>\n",
       "      <td>PIT</td>\n",
       "      <td>11.0</td>\n",
       "      <td>15.0</td>\n",
       "    </tr>\n",
       "    <tr>\n",
       "      <th>37</th>\n",
       "      <td>Victor Hedman</td>\n",
       "      <td>TBL</td>\n",
       "      <td>13.0</td>\n",
       "      <td>38.0</td>\n",
       "    </tr>\n",
       "    <tr>\n",
       "      <th>6</th>\n",
       "      <td>Brad Marchand</td>\n",
       "      <td>BOS</td>\n",
       "      <td>14.0</td>\n",
       "      <td>7.0</td>\n",
       "    </tr>\n",
       "    <tr>\n",
       "      <th>21</th>\n",
       "      <td>Vincent Trocheck</td>\n",
       "      <td>FLA</td>\n",
       "      <td>15.0</td>\n",
       "      <td>22.0</td>\n",
       "    </tr>\n",
       "    <tr>\n",
       "      <th>9</th>\n",
       "      <td>Brayden Schenn</td>\n",
       "      <td>STL</td>\n",
       "      <td>16.0</td>\n",
       "      <td>10.0</td>\n",
       "    </tr>\n",
       "  </tbody>\n",
       "</table>\n",
       "</div>"
      ],
      "text/plain": [
       "          PlayerName Team_x  EndSeasonRank  ZRnk\n",
       "0   Nathan MacKinnon    COL            1.0   1.0\n",
       "1      Evgeni Malkin    PIT            2.0   2.0\n",
       "2      Alex Ovechkin    WSH            3.0   3.0\n",
       "4        Taylor Hall    NJD            4.0   5.0\n",
       "5         Jamie Benn    DAL            5.0   6.0\n",
       "3    Nikita Kucherov    TBL            6.0   4.0\n",
       "22     Blake Wheeler    WPG            7.0  23.0\n",
       "7     Connor McDavid    EDM            8.0   8.0\n",
       "12      Tyler Seguin    DAL            9.0  13.0\n",
       "10      Dustin Brown    LAK           10.0  11.0\n",
       "14     Sidney Crosby    PIT           11.0  15.0\n",
       "37     Victor Hedman    TBL           13.0  38.0\n",
       "6      Brad Marchand    BOS           14.0   7.0\n",
       "21  Vincent Trocheck    FLA           15.0  22.0\n",
       "9     Brayden Schenn    STL           16.0  10.0"
      ]
     },
     "execution_count": 49,
     "metadata": {},
     "output_type": "execute_result"
    }
   ],
   "source": [
    "# Make a function that will return mean and std for a column so that we can compute the z-score\n",
    "# for values in that column\n",
    "def calcCatZ(df, dfcol):\n",
    "    colMean = df[dfcol].mean()\n",
    "    colStd = df[dfcol].std()\n",
    "    return (colMean, colStd)\n",
    "\n",
    "# Apply the function above to the statistical columns of interest\n",
    "for curCol in ['G', 'A', 'PM', 'PIM', 'PPP', 'GWG', 'SOG', 'HIT', 'BLK']:\n",
    "    curMean, curStd = calcCatZ(statsDF18, curCol)\n",
    "    statsDF18[curCol + 'Z'] = (statsDF18[curCol] - curMean) / curStd\n",
    "\n",
    "# Compute the Total Z-score across all the columns\n",
    "statsDF18['TotZ'] = statsDF18['GZ'] + statsDF18['AZ'] + statsDF18['PMZ'] + \\\n",
    "                    statsDF18['PIMZ'] + statsDF18['PPPZ'] + statsDF18['GWGZ'] + \\\n",
    "                    statsDF18['GWGZ'] + statsDF18['SOGZ'] + statsDF18['HITZ']\n",
    "\n",
    "# Now rank the data frame by the Total Z,  Fingers crossed that it will correlate\n",
    "# very closely for the End of Season ranking supplied by Yahoo\n",
    "statsDF18['ZRnk'] = statsDF18['TotZ'].rank(ascending=False) # The higher total Z score, the better\n",
    "\n",
    "# Now merge bank to the Yahoo rankings data frame so that we can see a side-by-side comparison\n",
    "# of our computed Z-score ranking to the Yahoo-determined End of Season ranking\n",
    "srnk18 = statsDF18.merge(ranksDF, on='PlayerName', how='left')\n",
    "\n",
    "# We only saved the Yahoo rankings for the top players, but computed Z-Score\n",
    "# ranking for all, so get rid of records without the Yahoo rankings\n",
    "srnk18 = srnk18.dropna() \n",
    "\n",
    "# Save the dataframe sorte by Yahoo Rank for display purposes\n",
    "srnk18.sort_values('EndSeasonRank', ascending=True, inplace=True) \n",
    "\n",
    "# Look at the top rows for a sanity check\n",
    "srnk18.loc[:,['PlayerName', 'Team_x', 'EndSeasonRank', 'ZRnk']].head(15)"
   ]
  },
  {
   "cell_type": "markdown",
   "metadata": {},
   "source": [
    "## Not perfect, but how well does it correlate?\n",
    "From the previous data frame glimpse, obviously the computed Z-score does not exactly line up with Yahoo's published End of season ranking for each player.  However, it does not appear near as far off as the Yahoo's Pre-Season Ranking.  But to confirm, we will compute the correlation and graph using another scatter plot for confirmation."
   ]
  },
  {
   "cell_type": "code",
   "execution_count": 50,
   "metadata": {},
   "outputs": [
    {
     "data": {
      "text/plain": [
       "0.7970790994912658"
      ]
     },
     "execution_count": 50,
     "metadata": {},
     "output_type": "execute_result"
    }
   ],
   "source": [
    "srnk18corr = srnk18['ZRnk'].corr(srnk18['EndSeasonRank'])\n",
    "srnk18corr"
   ]
  },
  {
   "cell_type": "markdown",
   "metadata": {},
   "source": [
    "Interesting that we went from a negative correlation previously to almost 0.8, so although not perfect, a huge improvement.  I don't recall that we have learned in this class at what correlation value we can say is good enough to keep processing, but to complete this final project, I will subjectively decide the correlation value improvement is significant enough to warrant the next step. Just for visualization, let's look at the scatter plot of what this improved correlation looks like."
   ]
  },
  {
   "cell_type": "code",
   "execution_count": 53,
   "metadata": {},
   "outputs": [
    {
     "data": {
      "image/png": "[encoded data removed]",
      "text/plain": [
       "<Figure size 432x288 with 1 Axes>"
      ]
     },
     "metadata": {},
     "output_type": "display_data"
    }
   ],
   "source": [
    "%matplotlib inline\n",
    "plt.scatter(srnk18['EndSeasonRank'],srnk18['ZRnk'])\n",
    "# Label the axes\n",
    "plt.xlabel('End-season Yahoo ranking')\n",
    "plt.ylabel('Computed Z-score ranking')\n",
    "\n",
    "#label the figure\n",
    "plt.title('Comparing 2018 Yahoo End-of-Season rank to computed Z-score \\nCorr={0}'.format(str(srnk18corr)))\n",
    "plt.tight_layout()\n",
    "plt.savefig(dataFolder + '2018EndSeasonVsZRnks.png')\n",
    "plt.show()"
   ]
  },
  {
   "cell_type": "markdown",
   "metadata": {},
   "source": [
    "Wow - that's a big difference from the last plot.  Much better grouping on either side of a hypothetical line with a slope equation of y = 1 * x + 0"
   ]
  },
  {
   "cell_type": "markdown",
   "metadata": {},
   "source": [
    "## Linear Regression Predictor\n",
    "Now we will see if we can build a model that employs linear regression to predict a numeric Pre-season Ranking value that will outperform that provided by Yahoo.  Remember theirs is based on just last year's (2017) statistics plus the 'expert' prediction for 2018, that we saw might not be so expewrt.  Our linear regression model will be based on Z-scores for each category from the last three years.  Are players improving or regressing over the last several years?  Was last year an aberration?\n",
    "Of course this analysis has potential flaws when it comes to how do you incorporate young players with less than three years experience, and how to account for a player having had a significant injury in one of the last the three years that would have depressed their season long stats for the year in which the injury occurred.  I don't know if I'll be able to incorporate that alternative analysis in this final project, but if the overall results show this model has good potential, then these situations would be potentially important to consider in further refining this model concept."
   ]
  },
  {
   "cell_type": "code",
   "execution_count": null,
   "metadata": {},
   "outputs": [],
   "source": []
  }
 ],
 "metadata": {
  "kernelspec": {
   "display_name": "Python 3",
   "language": "python",
   "name": "python3"
  },
  "language_info": {
   "codemirror_mode": {
    "name": "ipython",
    "version": 3
   },
   "file_extension": ".py",
   "mimetype": "text/x-python",
   "name": "python",
   "nbconvert_exporter": "python",
   "pygments_lexer": "ipython3",
   "version": "3.6.4"
  }
 },
 "nbformat": 4,
 "nbformat_minor": 2
}
