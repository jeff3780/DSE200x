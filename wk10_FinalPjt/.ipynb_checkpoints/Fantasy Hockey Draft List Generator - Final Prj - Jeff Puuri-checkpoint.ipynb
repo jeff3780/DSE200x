{
 "cells": [
  {
   "cell_type": "markdown",
   "metadata": {},
   "source": [
    "# Fantasy Hockey Draft List Generator\n",
    "** Final Project for DSE200x by Jeff Puuri **\n",
    "\n",
    "Abstract: In 2017, it was estimated that there were over 50 million participants in online fantasy sports.  Participation in fantasy sports is a leisure activity, but many play for money as well as pride.\n",
    "\n",
    "Drafting the best team at the start of each season is a major key to a successful season as measured by winning one's league, or finishing 'in the money' (usually the top 3 spots).  In helping participants prepare for a draft, many online leagues provide a suggested draft list, that ranks sports players' projected performance in the upcoming season based on last year's stats only.  It can be shown, based on average draft position, that league-provided suggested draft lists are the predominant source for draft selections.\n",
    "\n",
    "Are these league-provided draft lists, the best source for one's draft choices?  Or is it possible to apply data science to create an improved draft list of players, based on more than just last years stats, that can provide a fantasy participant with an advantage at draft time over those using the draft list provided by the online fantasy host?\n",
    "\n",
    "The goal in drafting a better team is to give one a better chance of their team finishing the season in the top spots, providing enhanced enjoyment, pride, and possible winnings in leagues that play for money.\n",
    "\n",
    "This project study will produce a model for Fantasy Hockey using Yahoo Sports, the online service in which I have participated with same league for over ten years.  Therefore I will use the same statistical categories that are used by my league.  Although the model produced by this study is specific to the sport of hockey and a certain set of statsitical categories used by my leagues, I would like to demonstrate that this approach could be extended to other fantasy sports and the statistical categories defined for a participant's particular league.\n",
    "\n",
    "One other note is that this study is geared towards season-long fantasy leagues, and not daily matchups that are becoming popular."
   ]
  },
  {
   "cell_type": "code",
   "execution_count": 43,
   "metadata": {},
   "outputs": [],
   "source": [
    "# import libraries to use\n",
    "import numpy as np\n",
    "import pandas as pd\n",
    "import matplotlib.pyplot as plt\n",
    "dataFolder = 'D:/PjtData/4_PD/edX_DSE200x/wk10_FinalPjt/'"
   ]
  },
  {
   "cell_type": "markdown",
   "metadata": {},
   "source": [
    "## Import Datasets\n",
    "The next step is to import the datasets that will be used in the analysis.  One set is going to contain the predicted and actual rankings from Yahoo Sports for all players for the 2017-18 season (ranks).  The other contains the player statistics for 2004-2017 from Hockey-Reference.com that has been cleansed by a user through Kaggle (stats).\n"
   ]
  },
  {
   "cell_type": "code",
   "execution_count": 44,
   "metadata": {},
   "outputs": [],
   "source": [
    "statsFile = 'NHLKaggleStats.csv'\n",
    "ranksFile = 'YahooPlayerRanks.csv'\n",
    "statsDF = pd.read_csv(dataFolder + statsFile)\n",
    "ranksDF = pd.read_csv(dataFolder + ranksFile)"
   ]
  },
  {
   "cell_type": "markdown",
   "metadata": {},
   "source": [
    "## Remove unnecessary columns - Ranks\n",
    "Each of the raw datasets contains statistical columns that are not part of the Yahoo Fantasy Hockey scoring criteria, therefore they can be removed to unclutter upcoming dataframe displays.  The following columns are considered for the scoring criteria: G = Goals, A = Assists, PM = Plus/Minus, PIM = Penalties in Minutes, PPP=Power Play Points, GWG = Game Winning Goals, SOG = Shots on Goal, HIT = Hits, BLK = Blocked shots.  We need to keep the GP = Games Played column for normalizing stats in a later step, and the PreSeasonRank and EndSeasonRank columns for comparing the model results.  We also keep PlayerName, Team, and Pos(ition) for identification purposes in visualizations and reports."
   ]
  },
  {
   "cell_type": "code",
   "execution_count": 45,
   "metadata": {},
   "outputs": [
    {
     "data": {
      "text/plain": [
       "Index(['PlayerName', 'Team', 'Pos', 'GP', 'PreSeasonRank', 'EndSeasonRank',\n",
       "       'TOIperGP', 'G', 'A', 'PM', 'PIM', 'PPP', 'GWG', 'SOG', 'HIT', 'BLK'],\n",
       "      dtype='object')"
      ]
     },
     "execution_count": 45,
     "metadata": {},
     "output_type": "execute_result"
    }
   ],
   "source": [
    "ranksDF.columns"
   ]
  },
  {
   "cell_type": "code",
   "execution_count": 46,
   "metadata": {},
   "outputs": [
    {
     "data": {
      "text/plain": [
       "Index(['PlayerName', 'Team', 'Pos', 'GP', 'PreSeasonRank', 'EndSeasonRank',\n",
       "       'G', 'A', 'PM', 'PIM', 'PPP', 'GWG', 'SOG', 'HIT', 'BLK'],\n",
       "      dtype='object')"
      ]
     },
     "execution_count": 46,
     "metadata": {},
     "output_type": "execute_result"
    }
   ],
   "source": [
    "del(ranksDF['TOIperGP'])\n",
    "ranksDF.columns"
   ]
  },
  {
   "cell_type": "markdown",
   "metadata": {},
   "source": [
    "## Remove unnecessary columns - Stats\n",
    "Keep the same corresponding columns from the Kaggle source, and then rename the columns to align with the Yahoo naming"
   ]
  },
  {
   "cell_type": "code",
   "execution_count": 47,
   "metadata": {},
   "outputs": [
    {
     "data": {
      "text/plain": [
       "Index(['Rk', 'Player', 'Age', 'Pos', 'Tm', 'GP', 'G', 'A', 'PTS', 'plusminus',\n",
       "       'PIM', 'PS', 'EV', 'PP', 'SH', 'GW', 'EV00', 'PP00', 'SH00', 'S',\n",
       "       'S_percent', 'TOI', 'ATOI', 'BLK', 'HIT', 'FOW', 'FOL', 'FO_percent',\n",
       "       'HART', 'Votes', 'Season', 'NHLID'],\n",
       "      dtype='object')"
      ]
     },
     "execution_count": 47,
     "metadata": {},
     "output_type": "execute_result"
    }
   ],
   "source": [
    "statsDF.columns"
   ]
  },
  {
   "cell_type": "code",
   "execution_count": 48,
   "metadata": {},
   "outputs": [
    {
     "data": {
      "text/plain": [
       "Index(['PlayerName', 'Team', 'Pos', 'GP', 'G', 'A', 'PM', 'PIM', 'PPP', 'GWG',\n",
       "       'SOG', 'HIT', 'BLK', 'Season'],\n",
       "      dtype='object')"
      ]
     },
     "execution_count": 48,
     "metadata": {},
     "output_type": "execute_result"
    }
   ],
   "source": [
    "statsDF['PPP'] = statsDF['PP'] + statsDF['PP00'] # In the NHL dataset PowerPlay Points were in two columns for goals and assists\n",
    "statsDF.drop(['Rk', 'Age', 'PTS', 'PS', 'EV', 'PP', 'SH', 'EV00', 'PP00', 'SH00', 'S_percent', 'TOI', 'ATOI', 'FOW', 'FOL', 'FO_percent', 'HART', 'Votes', 'NHLID'], axis=1, inplace=True)\n",
    "statsDF.rename({'Player':'PlayerName', 'Tm':'Team', 'plusminus':'PM', 'GW':'GWG', 'S':'SOG'}, axis='columns', inplace='True')\n",
    "statsDF = statsDF[['PlayerName', 'Team', 'Pos', 'GP', 'G', 'A', 'PM', 'PIM', 'PPP', 'GWG', 'SOG', 'HIT', 'BLK', 'Season']]\n",
    "statsDF.columns"
   ]
  },
  {
   "cell_type": "code",
   "execution_count": 49,
   "metadata": {},
   "outputs": [],
   "source": [
    "# Whittle down the stats dataset to just the seasons we need\n",
    "statsSeasons = [2015, 2016, 2017]\n",
    "statsDF = statsDF[statsDF['Season'].isin(statsSeasons)]"
   ]
  },
  {
   "cell_type": "code",
   "execution_count": 50,
   "metadata": {},
   "outputs": [
    {
     "data": {
      "text/plain": [
       "(2668, 14)"
      ]
     },
     "execution_count": 50,
     "metadata": {},
     "output_type": "execute_result"
    }
   ],
   "source": [
    "statsDF.shape"
   ]
  },
  {
   "cell_type": "code",
   "execution_count": null,
   "metadata": {},
   "outputs": [],
   "source": []
  }
 ],
 "metadata": {
  "kernelspec": {
   "display_name": "Python 3",
   "language": "python",
   "name": "python3"
  },
  "language_info": {
   "codemirror_mode": {
    "name": "ipython",
    "version": 3
   },
   "file_extension": ".py",
   "mimetype": "text/x-python",
   "name": "python",
   "nbconvert_exporter": "python",
   "pygments_lexer": "ipython3",
   "version": "3.6.4"
  }
 },
 "nbformat": 4,
 "nbformat_minor": 2
}
