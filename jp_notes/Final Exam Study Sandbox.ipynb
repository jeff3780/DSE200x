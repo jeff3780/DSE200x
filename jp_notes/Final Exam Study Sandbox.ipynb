{
 "cells": [
  {
   "cell_type": "markdown",
   "metadata": {},
   "source": [
    "Study Sandbox for Final Exam DSE200X"
   ]
  },
  {
   "cell_type": "code",
   "execution_count": 141,
   "metadata": {},
   "outputs": [],
   "source": [
    "# All Imports go here\n",
    "import numpy as np\n",
    "import pandas as pd\n",
    "import os.path\n",
    "import sqlite3\n",
    "import matplotlib.pyplot as plt"
   ]
  },
  {
   "cell_type": "code",
   "execution_count": 142,
   "metadata": {},
   "outputs": [],
   "source": [
    "# Also set data file constants up here\n",
    "pjtdata_path = 'D:/PjtData/5_LP/SBL'\n",
    "datafile_18 = 'NHLHockeyRef18.csv'\n",
    "datafile_pre18 = 'NHLKaggleStats.csv'"
   ]
  },
  {
   "cell_type": "markdown",
   "metadata": {},
   "source": [
    "## Load Data"
   ]
  },
  {
   "cell_type": "code",
   "execution_count": 143,
   "metadata": {},
   "outputs": [
    {
     "data": {
      "text/plain": [
       "(91068, 1455673)"
      ]
     },
     "execution_count": 143,
     "metadata": {},
     "output_type": "execute_result"
    }
   ],
   "source": [
    "# os.path\n",
    "fullpath_datafile_18 = os.path.join(pjtdata_path, datafile_18)\n",
    "fullpath_datafile_pre18 = os.path.join(pjtdata_path, datafile_pre18)\n",
    "file_size18 = os.path.getsize(fullpath_datafile_18)\n",
    "file_sizepre18 = os.path.getsize(fullpath_datafile_pre18)\n",
    "file_size18, file_sizepre18"
   ]
  },
  {
   "cell_type": "code",
   "execution_count": 144,
   "metadata": {},
   "outputs": [],
   "source": [
    "df18 = pd.read_csv(fullpath_datafile_18, sep=',')\n",
    "dfpre18 = pd.read_csv(fullpath_datafile_pre18, sep=',')"
   ]
  },
  {
   "cell_type": "code",
   "execution_count": 145,
   "metadata": {},
   "outputs": [
    {
     "data": {
      "text/plain": [
       "Index(['HockeyRefID', 'Player', 'Age', 'Tm', 'Pos', 'GP', 'G', 'A', 'PTS',\n",
       "       'PM', 'PIM', 'PS', 'EVG', 'PPG', 'SHG', 'GWG', 'EVA', 'PPA', 'SHA',\n",
       "       'SOG', 'SPCT', 'TOI', 'ATOI', 'BLK', 'HIT', 'FOW', 'FOL', 'FOPCT',\n",
       "       'HART', 'Votes', 'Season'],\n",
       "      dtype='object')"
      ]
     },
     "execution_count": 145,
     "metadata": {},
     "output_type": "execute_result"
    }
   ],
   "source": [
    "dfpre18.columns"
   ]
  },
  {
   "cell_type": "code",
   "execution_count": 146,
   "metadata": {},
   "outputs": [
    {
     "data": {
      "text/plain": [
       "Index(['HockeyRefID', 'Player', 'Age', 'Tm', 'Pos', 'GP', 'G', 'A', 'PTS',\n",
       "       'PM', 'PIM', 'PS', 'EVG', 'PPG', 'SHG', 'GWG', 'EVA', 'PPA', 'SHA',\n",
       "       'SOG', 'SPCT', 'TOI', 'ATOI', 'BLK', 'HIT', 'FOW', 'FOL', 'FOPCT'],\n",
       "      dtype='object')"
      ]
     },
     "execution_count": 146,
     "metadata": {},
     "output_type": "execute_result"
    }
   ],
   "source": [
    "df18.columns"
   ]
  },
  {
   "cell_type": "code",
   "execution_count": 147,
   "metadata": {},
   "outputs": [],
   "source": [
    "dfpre18.drop(['HART', 'Votes'], axis=1, inplace=True)\n",
    "df18['Season'] = 2018"
   ]
  },
  {
   "cell_type": "code",
   "execution_count": 148,
   "metadata": {},
   "outputs": [
    {
     "data": {
      "text/plain": [
       "(  HockeyRefID          Player  Age   Tm Pos  GP   G   A  PTS  PM   ...    SOG  \\\n",
       " 0   kulakbr01     Brett Kulak   24  CGY   D  71   2   6    8  -3   ...     73   \n",
       " 1   jennebo01    Boone Jenner   24  CBJ   C  75  13  19   32   1   ...    187   \n",
       " 2   lindhan01  Anton Lindholm   23  COL   D  48   0   4    4   4   ...     22   \n",
       " 3   megnaja01    Jayson Megna   27  VAN   C   1   0   0    0   0   ...      0   \n",
       " 4   fowleca01      Cam Fowler   26  ANA   D  67   8  24   32   3   ...    122   \n",
       " \n",
       "    SPCT   TOI   ATOI    BLK  HIT    FOW    FOL  FOPCT  Season  \n",
       " 0   2.7   922  12:59   49.0   45    0.0    0.0    NaN    2018  \n",
       " 1   7.0  1235  16:28   83.0  205  268.0  215.0   55.5    2018  \n",
       " 2   0.0   632  13:10   51.0   99    0.0    0.0    NaN    2018  \n",
       " 3   NaN     4   4:18    0.0    0    0.0    2.0    0.0    2018  \n",
       " 4   6.6  1665  24:51  108.0   21    1.0    1.0   50.0    2018  \n",
       " \n",
       " [5 rows x 29 columns],\n",
       "   HockeyRefID             Player  Age   Tm Pos  GP   G   A  PTS  PM   ...    \\\n",
       " 0   mcdavco01     Connor McDavid   20  EDM   C  82  30  70  100  27   ...     \n",
       " 1   crosbsi01      Sidney Crosby   29  PIT   C  75  44  45   89  17   ...     \n",
       " 2    kanepa01       Patrick Kane   28  CHI  RW  82  34  55   89  11   ...     \n",
       " 3   backsni02  Nicklas Backstrom   29  WSH   C  82  23  63   86  17   ...     \n",
       " 4   kucheni01    Nikita Kucherov   23  TBL  RW  74  40  45   85  13   ...     \n",
       " \n",
       "    SOG  SPCT   TOI       ATOI  BLK  HIT  FOW  FOL  FOPCT  Season  \n",
       " 0  251  12.0  1733  21.133333   29   34  348  458   43.2    2017  \n",
       " 1  255  17.3  1491  19.883333   27   80  842  906   48.2    2017  \n",
       " 2  292  11.6  1754  21.400000   15   28    7   44   13.7    2017  \n",
       " 3  162  14.2  1497  18.266667   33   45  685  648   51.4    2017  \n",
       " 4  246  16.3  1438  19.433333   20   30    0    0    0.0    2017  \n",
       " \n",
       " [5 rows x 29 columns])"
      ]
     },
     "execution_count": 148,
     "metadata": {},
     "output_type": "execute_result"
    }
   ],
   "source": [
    "df18.head(), dfpre18.head()"
   ]
  },
  {
   "cell_type": "code",
   "execution_count": 149,
   "metadata": {},
   "outputs": [
    {
     "data": {
      "text/html": [
       "<div>\n",
       "<style scoped>\n",
       "    .dataframe tbody tr th:only-of-type {\n",
       "        vertical-align: middle;\n",
       "    }\n",
       "\n",
       "    .dataframe tbody tr th {\n",
       "        vertical-align: top;\n",
       "    }\n",
       "\n",
       "    .dataframe thead th {\n",
       "        text-align: right;\n",
       "    }\n",
       "</style>\n",
       "<table border=\"1\" class=\"dataframe\">\n",
       "  <thead>\n",
       "    <tr style=\"text-align: right;\">\n",
       "      <th></th>\n",
       "      <th>HockeyRefID</th>\n",
       "      <th>Player</th>\n",
       "      <th>Age</th>\n",
       "      <th>Tm</th>\n",
       "      <th>Pos</th>\n",
       "      <th>GP</th>\n",
       "      <th>G</th>\n",
       "      <th>A</th>\n",
       "      <th>PTS</th>\n",
       "      <th>PM</th>\n",
       "      <th>...</th>\n",
       "      <th>SOG</th>\n",
       "      <th>SPCT</th>\n",
       "      <th>TOI</th>\n",
       "      <th>ATOI</th>\n",
       "      <th>BLK</th>\n",
       "      <th>HIT</th>\n",
       "      <th>FOW</th>\n",
       "      <th>FOL</th>\n",
       "      <th>FOPCT</th>\n",
       "      <th>Season</th>\n",
       "    </tr>\n",
       "  </thead>\n",
       "  <tbody>\n",
       "    <tr>\n",
       "      <th>0</th>\n",
       "      <td>kulakbr01</td>\n",
       "      <td>Brett Kulak</td>\n",
       "      <td>24</td>\n",
       "      <td>CGY</td>\n",
       "      <td>D</td>\n",
       "      <td>71</td>\n",
       "      <td>2</td>\n",
       "      <td>6</td>\n",
       "      <td>8</td>\n",
       "      <td>-3</td>\n",
       "      <td>...</td>\n",
       "      <td>73</td>\n",
       "      <td>2.7</td>\n",
       "      <td>922</td>\n",
       "      <td>12.983333</td>\n",
       "      <td>49.0</td>\n",
       "      <td>45</td>\n",
       "      <td>0.0</td>\n",
       "      <td>0.0</td>\n",
       "      <td>NaN</td>\n",
       "      <td>2018</td>\n",
       "    </tr>\n",
       "    <tr>\n",
       "      <th>1</th>\n",
       "      <td>jennebo01</td>\n",
       "      <td>Boone Jenner</td>\n",
       "      <td>24</td>\n",
       "      <td>CBJ</td>\n",
       "      <td>C</td>\n",
       "      <td>75</td>\n",
       "      <td>13</td>\n",
       "      <td>19</td>\n",
       "      <td>32</td>\n",
       "      <td>1</td>\n",
       "      <td>...</td>\n",
       "      <td>187</td>\n",
       "      <td>7.0</td>\n",
       "      <td>1235</td>\n",
       "      <td>16.466667</td>\n",
       "      <td>83.0</td>\n",
       "      <td>205</td>\n",
       "      <td>268.0</td>\n",
       "      <td>215.0</td>\n",
       "      <td>55.5</td>\n",
       "      <td>2018</td>\n",
       "    </tr>\n",
       "    <tr>\n",
       "      <th>2</th>\n",
       "      <td>lindhan01</td>\n",
       "      <td>Anton Lindholm</td>\n",
       "      <td>23</td>\n",
       "      <td>COL</td>\n",
       "      <td>D</td>\n",
       "      <td>48</td>\n",
       "      <td>0</td>\n",
       "      <td>4</td>\n",
       "      <td>4</td>\n",
       "      <td>4</td>\n",
       "      <td>...</td>\n",
       "      <td>22</td>\n",
       "      <td>0.0</td>\n",
       "      <td>632</td>\n",
       "      <td>13.166667</td>\n",
       "      <td>51.0</td>\n",
       "      <td>99</td>\n",
       "      <td>0.0</td>\n",
       "      <td>0.0</td>\n",
       "      <td>NaN</td>\n",
       "      <td>2018</td>\n",
       "    </tr>\n",
       "    <tr>\n",
       "      <th>3</th>\n",
       "      <td>megnaja01</td>\n",
       "      <td>Jayson Megna</td>\n",
       "      <td>27</td>\n",
       "      <td>VAN</td>\n",
       "      <td>C</td>\n",
       "      <td>1</td>\n",
       "      <td>0</td>\n",
       "      <td>0</td>\n",
       "      <td>0</td>\n",
       "      <td>0</td>\n",
       "      <td>...</td>\n",
       "      <td>0</td>\n",
       "      <td>NaN</td>\n",
       "      <td>4</td>\n",
       "      <td>4.300000</td>\n",
       "      <td>0.0</td>\n",
       "      <td>0</td>\n",
       "      <td>0.0</td>\n",
       "      <td>2.0</td>\n",
       "      <td>0.0</td>\n",
       "      <td>2018</td>\n",
       "    </tr>\n",
       "    <tr>\n",
       "      <th>4</th>\n",
       "      <td>fowleca01</td>\n",
       "      <td>Cam Fowler</td>\n",
       "      <td>26</td>\n",
       "      <td>ANA</td>\n",
       "      <td>D</td>\n",
       "      <td>67</td>\n",
       "      <td>8</td>\n",
       "      <td>24</td>\n",
       "      <td>32</td>\n",
       "      <td>3</td>\n",
       "      <td>...</td>\n",
       "      <td>122</td>\n",
       "      <td>6.6</td>\n",
       "      <td>1665</td>\n",
       "      <td>24.850000</td>\n",
       "      <td>108.0</td>\n",
       "      <td>21</td>\n",
       "      <td>1.0</td>\n",
       "      <td>1.0</td>\n",
       "      <td>50.0</td>\n",
       "      <td>2018</td>\n",
       "    </tr>\n",
       "  </tbody>\n",
       "</table>\n",
       "<p>5 rows × 29 columns</p>\n",
       "</div>"
      ],
      "text/plain": [
       "  HockeyRefID          Player  Age   Tm Pos  GP   G   A  PTS  PM   ...    SOG  \\\n",
       "0   kulakbr01     Brett Kulak   24  CGY   D  71   2   6    8  -3   ...     73   \n",
       "1   jennebo01    Boone Jenner   24  CBJ   C  75  13  19   32   1   ...    187   \n",
       "2   lindhan01  Anton Lindholm   23  COL   D  48   0   4    4   4   ...     22   \n",
       "3   megnaja01    Jayson Megna   27  VAN   C   1   0   0    0   0   ...      0   \n",
       "4   fowleca01      Cam Fowler   26  ANA   D  67   8  24   32   3   ...    122   \n",
       "\n",
       "   SPCT   TOI       ATOI    BLK  HIT    FOW    FOL  FOPCT  Season  \n",
       "0   2.7   922  12.983333   49.0   45    0.0    0.0    NaN    2018  \n",
       "1   7.0  1235  16.466667   83.0  205  268.0  215.0   55.5    2018  \n",
       "2   0.0   632  13.166667   51.0   99    0.0    0.0    NaN    2018  \n",
       "3   NaN     4   4.300000    0.0    0    0.0    2.0    0.0    2018  \n",
       "4   6.6  1665  24.850000  108.0   21    1.0    1.0   50.0    2018  \n",
       "\n",
       "[5 rows x 29 columns]"
      ]
     },
     "execution_count": 149,
     "metadata": {},
     "output_type": "execute_result"
    }
   ],
   "source": [
    "df18['H'], df18['M'] = df18['ATOI'].str.split(':').str\n",
    "df18['H'] = df18['H'].astype('float64')\n",
    "df18['M'] = df18['M'].astype('float64')\n",
    "df18['ATOI'] = df18['H'] + (df18['M'] / 60.0)\n",
    "df18.drop(['H', 'M'], axis=1, inplace=True)\n",
    "df18.head()"
   ]
  },
  {
   "cell_type": "code",
   "execution_count": 150,
   "metadata": {},
   "outputs": [
    {
     "data": {
      "text/html": [
       "<div>\n",
       "<style scoped>\n",
       "    .dataframe tbody tr th:only-of-type {\n",
       "        vertical-align: middle;\n",
       "    }\n",
       "\n",
       "    .dataframe tbody tr th {\n",
       "        vertical-align: top;\n",
       "    }\n",
       "\n",
       "    .dataframe thead th {\n",
       "        text-align: right;\n",
       "    }\n",
       "</style>\n",
       "<table border=\"1\" class=\"dataframe\">\n",
       "  <thead>\n",
       "    <tr style=\"text-align: right;\">\n",
       "      <th></th>\n",
       "      <th>HockeyRefID</th>\n",
       "      <th>Player</th>\n",
       "      <th>Age</th>\n",
       "      <th>Tm</th>\n",
       "      <th>Pos</th>\n",
       "      <th>GP</th>\n",
       "      <th>G</th>\n",
       "      <th>A</th>\n",
       "      <th>PTS</th>\n",
       "      <th>PM</th>\n",
       "      <th>...</th>\n",
       "      <th>SOG</th>\n",
       "      <th>SPCT</th>\n",
       "      <th>TOI</th>\n",
       "      <th>ATOI</th>\n",
       "      <th>BLK</th>\n",
       "      <th>HIT</th>\n",
       "      <th>FOW</th>\n",
       "      <th>FOL</th>\n",
       "      <th>FOPCT</th>\n",
       "      <th>Season</th>\n",
       "    </tr>\n",
       "  </thead>\n",
       "  <tbody>\n",
       "    <tr>\n",
       "      <th>0</th>\n",
       "      <td>kulakbr01</td>\n",
       "      <td>Brett Kulak</td>\n",
       "      <td>24</td>\n",
       "      <td>CGY</td>\n",
       "      <td>D</td>\n",
       "      <td>71</td>\n",
       "      <td>2</td>\n",
       "      <td>6</td>\n",
       "      <td>8</td>\n",
       "      <td>-3</td>\n",
       "      <td>...</td>\n",
       "      <td>73</td>\n",
       "      <td>2.7</td>\n",
       "      <td>922</td>\n",
       "      <td>12.983333</td>\n",
       "      <td>49</td>\n",
       "      <td>45</td>\n",
       "      <td>0</td>\n",
       "      <td>0</td>\n",
       "      <td>NaN</td>\n",
       "      <td>2018</td>\n",
       "    </tr>\n",
       "    <tr>\n",
       "      <th>1</th>\n",
       "      <td>jennebo01</td>\n",
       "      <td>Boone Jenner</td>\n",
       "      <td>24</td>\n",
       "      <td>CBJ</td>\n",
       "      <td>C</td>\n",
       "      <td>75</td>\n",
       "      <td>13</td>\n",
       "      <td>19</td>\n",
       "      <td>32</td>\n",
       "      <td>1</td>\n",
       "      <td>...</td>\n",
       "      <td>187</td>\n",
       "      <td>7.0</td>\n",
       "      <td>1235</td>\n",
       "      <td>16.466667</td>\n",
       "      <td>83</td>\n",
       "      <td>205</td>\n",
       "      <td>268</td>\n",
       "      <td>215</td>\n",
       "      <td>55.5</td>\n",
       "      <td>2018</td>\n",
       "    </tr>\n",
       "    <tr>\n",
       "      <th>2</th>\n",
       "      <td>lindhan01</td>\n",
       "      <td>Anton Lindholm</td>\n",
       "      <td>23</td>\n",
       "      <td>COL</td>\n",
       "      <td>D</td>\n",
       "      <td>48</td>\n",
       "      <td>0</td>\n",
       "      <td>4</td>\n",
       "      <td>4</td>\n",
       "      <td>4</td>\n",
       "      <td>...</td>\n",
       "      <td>22</td>\n",
       "      <td>0.0</td>\n",
       "      <td>632</td>\n",
       "      <td>13.166667</td>\n",
       "      <td>51</td>\n",
       "      <td>99</td>\n",
       "      <td>0</td>\n",
       "      <td>0</td>\n",
       "      <td>NaN</td>\n",
       "      <td>2018</td>\n",
       "    </tr>\n",
       "    <tr>\n",
       "      <th>3</th>\n",
       "      <td>megnaja01</td>\n",
       "      <td>Jayson Megna</td>\n",
       "      <td>27</td>\n",
       "      <td>VAN</td>\n",
       "      <td>C</td>\n",
       "      <td>1</td>\n",
       "      <td>0</td>\n",
       "      <td>0</td>\n",
       "      <td>0</td>\n",
       "      <td>0</td>\n",
       "      <td>...</td>\n",
       "      <td>0</td>\n",
       "      <td>NaN</td>\n",
       "      <td>4</td>\n",
       "      <td>4.300000</td>\n",
       "      <td>0</td>\n",
       "      <td>0</td>\n",
       "      <td>0</td>\n",
       "      <td>2</td>\n",
       "      <td>0.0</td>\n",
       "      <td>2018</td>\n",
       "    </tr>\n",
       "    <tr>\n",
       "      <th>4</th>\n",
       "      <td>fowleca01</td>\n",
       "      <td>Cam Fowler</td>\n",
       "      <td>26</td>\n",
       "      <td>ANA</td>\n",
       "      <td>D</td>\n",
       "      <td>67</td>\n",
       "      <td>8</td>\n",
       "      <td>24</td>\n",
       "      <td>32</td>\n",
       "      <td>3</td>\n",
       "      <td>...</td>\n",
       "      <td>122</td>\n",
       "      <td>6.6</td>\n",
       "      <td>1665</td>\n",
       "      <td>24.850000</td>\n",
       "      <td>108</td>\n",
       "      <td>21</td>\n",
       "      <td>1</td>\n",
       "      <td>1</td>\n",
       "      <td>50.0</td>\n",
       "      <td>2018</td>\n",
       "    </tr>\n",
       "  </tbody>\n",
       "</table>\n",
       "<p>5 rows × 29 columns</p>\n",
       "</div>"
      ],
      "text/plain": [
       "  HockeyRefID          Player  Age   Tm Pos  GP   G   A  PTS  PM   ...    SOG  \\\n",
       "0   kulakbr01     Brett Kulak   24  CGY   D  71   2   6    8  -3   ...     73   \n",
       "1   jennebo01    Boone Jenner   24  CBJ   C  75  13  19   32   1   ...    187   \n",
       "2   lindhan01  Anton Lindholm   23  COL   D  48   0   4    4   4   ...     22   \n",
       "3   megnaja01    Jayson Megna   27  VAN   C   1   0   0    0   0   ...      0   \n",
       "4   fowleca01      Cam Fowler   26  ANA   D  67   8  24   32   3   ...    122   \n",
       "\n",
       "   SPCT   TOI       ATOI  BLK  HIT  FOW  FOL  FOPCT  Season  \n",
       "0   2.7   922  12.983333   49   45    0    0    NaN    2018  \n",
       "1   7.0  1235  16.466667   83  205  268  215   55.5    2018  \n",
       "2   0.0   632  13.166667   51   99    0    0    NaN    2018  \n",
       "3   NaN     4   4.300000    0    0    0    2    0.0    2018  \n",
       "4   6.6  1665  24.850000  108   21    1    1   50.0    2018  \n",
       "\n",
       "[5 rows x 29 columns]"
      ]
     },
     "execution_count": 150,
     "metadata": {},
     "output_type": "execute_result"
    }
   ],
   "source": [
    "df18['BLK'] = df18['BLK'].fillna(0.0).astype('int64')\n",
    "df18['FOW'] = df18['FOW'].fillna(0.0).astype('int64')\n",
    "df18['FOL'] = df18['FOL'].fillna(0.0).astype('int64')\n",
    "#df18['BLK'] = df18['BLK'].astype('int64')\n",
    "#df18['BLK'] = df18[df18['BLK'].notnull()]['BLK'].astype('int64')\n",
    "#df18['BLK'] = df18[df18['BLK'].notnull()].astype('int64')\n",
    "#df18['FOW'] = df18['FOW'].astype('int64')\n",
    "#df18['FOL'] = df18['FOL'].astype('int64')\n",
    "df18.head()"
   ]
  },
  {
   "cell_type": "code",
   "execution_count": 151,
   "metadata": {},
   "outputs": [
    {
     "data": {
      "text/plain": [
       "(HockeyRefID     object\n",
       " Player          object\n",
       " Age              int64\n",
       " Tm              object\n",
       " Pos             object\n",
       " GP               int64\n",
       " G                int64\n",
       " A                int64\n",
       " PTS              int64\n",
       " PM               int64\n",
       " PIM              int64\n",
       " PS             float64\n",
       " EVG              int64\n",
       " PPG              int64\n",
       " SHG              int64\n",
       " GWG              int64\n",
       " EVA              int64\n",
       " PPA              int64\n",
       " SHA              int64\n",
       " SOG              int64\n",
       " SPCT           float64\n",
       " TOI              int64\n",
       " ATOI           float64\n",
       " BLK              int64\n",
       " HIT              int64\n",
       " FOW              int64\n",
       " FOL              int64\n",
       " FOPCT          float64\n",
       " Season           int64\n",
       " dtype: object, HockeyRefID     object\n",
       " Player          object\n",
       " Age              int64\n",
       " Tm              object\n",
       " Pos             object\n",
       " GP               int64\n",
       " G                int64\n",
       " A                int64\n",
       " PTS              int64\n",
       " PM               int64\n",
       " PIM              int64\n",
       " PS             float64\n",
       " EVG              int64\n",
       " PPG              int64\n",
       " SHG              int64\n",
       " GWG              int64\n",
       " EVA              int64\n",
       " PPA              int64\n",
       " SHA              int64\n",
       " SOG              int64\n",
       " SPCT           float64\n",
       " TOI              int64\n",
       " ATOI           float64\n",
       " BLK              int64\n",
       " HIT              int64\n",
       " FOW              int64\n",
       " FOL              int64\n",
       " FOPCT          float64\n",
       " Season           int64\n",
       " dtype: object)"
      ]
     },
     "execution_count": 151,
     "metadata": {},
     "output_type": "execute_result"
    }
   ],
   "source": [
    "df18.dtypes, dfpre18.dtypes"
   ]
  },
  {
   "cell_type": "code",
   "execution_count": 156,
   "metadata": {},
   "outputs": [],
   "source": [
    "dfall = dfpre18.append(df18)"
   ]
  },
  {
   "cell_type": "code",
   "execution_count": 157,
   "metadata": {},
   "outputs": [
    {
     "data": {
      "text/plain": [
       "((13056, 29), (890, 29), (13946, 29))"
      ]
     },
     "execution_count": 157,
     "metadata": {},
     "output_type": "execute_result"
    }
   ],
   "source": [
    "dfpre18.shape, df18.shape, dfall.shape"
   ]
  },
  {
   "cell_type": "code",
   "execution_count": 158,
   "metadata": {},
   "outputs": [
    {
     "ename": "NameError",
     "evalue": "name 'path_to_db' is not defined",
     "output_type": "error",
     "traceback": [
      "\u001b[1;31m---------------------------------------------------------------------------\u001b[0m",
      "\u001b[1;31mNameError\u001b[0m                                 Traceback (most recent call last)",
      "\u001b[1;32m<ipython-input-158-f164baa79be1>\u001b[0m in \u001b[0;36m<module>\u001b[1;34m()\u001b[0m\n\u001b[0;32m      1\u001b[0m \u001b[1;31m# sqlite\u001b[0m\u001b[1;33m\u001b[0m\u001b[1;33m\u001b[0m\u001b[0m\n\u001b[1;32m----> 2\u001b[1;33m \u001b[0msqllite_db_conn\u001b[0m \u001b[1;33m=\u001b[0m \u001b[0msqlite3\u001b[0m\u001b[1;33m.\u001b[0m\u001b[0mconnect\u001b[0m\u001b[1;33m(\u001b[0m\u001b[0mpath_to_db\u001b[0m\u001b[1;33m)\u001b[0m\u001b[1;33m\u001b[0m\u001b[0m\n\u001b[0m",
      "\u001b[1;31mNameError\u001b[0m: name 'path_to_db' is not defined"
     ]
    }
   ],
   "source": [
    "# sqlite\n",
    "sqllite_db_conn = sqlite3.connect(path_to_db)"
   ]
  },
  {
   "cell_type": "markdown",
   "metadata": {},
   "source": [
    "## Pandas"
   ]
  },
  {
   "cell_type": "code",
   "execution_count": null,
   "metadata": {},
   "outputs": [],
   "source": [
    "# Importing data\n",
    "df = pd.read_csv(path_to_csv, sep=',')\n",
    "\n",
    "# Exporting data\n",
    "df.to_sql(table_name, db_conn, if_exists=\"replace\")\n",
    "\n",
    "# Slicing\n",
    "slice = df.iloc[slice_start:slice_end]\n",
    "\n",
    "# df size\n",
    "numrows = len(df)\n"
   ]
  },
  {
   "cell_type": "markdown",
   "metadata": {},
   "source": [
    "## SQL"
   ]
  },
  {
   "cell_type": "code",
   "execution_count": null,
   "metadata": {},
   "outputs": [],
   "source": [
    "# Cursor processing using SQL Lite\n",
    "conn = sqlite3.connect(path_to_db) # create the db connection\n",
    "cursor = conn.cursor()             # initiate the cursor\n",
    "list_of_tuples = cursor.execute(sql_query_string).fetchall()\n",
    "# or\n",
    "df = pd.read_sql_squery(sql_query_string, conn)"
   ]
  }
 ],
 "metadata": {
  "kernelspec": {
   "display_name": "Python 3",
   "language": "python",
   "name": "python3"
  },
  "language_info": {
   "codemirror_mode": {
    "name": "ipython",
    "version": 3
   },
   "file_extension": ".py",
   "mimetype": "text/x-python",
   "name": "python",
   "nbconvert_exporter": "python",
   "pygments_lexer": "ipython3",
   "version": "3.6.4"
  }
 },
 "nbformat": 4,
 "nbformat_minor": 2
}
