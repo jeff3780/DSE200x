{
 "cells": [
  {
   "cell_type": "markdown",
   "metadata": {},
   "source": [
    "Study Notes for Final Exam DSE200X\n",
    "\n",
    "Intentions are for this to be a kitchen sink of python code from all the modules we've studied this term:\n",
    "* Numpy\n",
    "* Pandas\n",
    "* Matplotlib\n",
    "* Scikit-Learn\n",
    "* NLP\n",
    "\n",
    "The idea is to have a master repository of python calls, without the example execution.  To do that, copy and paste the code of interest into another notebook."
   ]
  },
  {
   "cell_type": "code",
   "execution_count": null,
   "metadata": {},
   "outputs": [],
   "source": [
    "# Imports\n",
    "import numpy as np\n",
    "import pandas as pd\n",
    "import os.path\n",
    "import import sqlite3"
   ]
  },
  {
   "cell_type": "markdown",
   "metadata": {},
   "source": [
    "## Misc Util Libs"
   ]
  },
  {
   "cell_type": "code",
   "execution_count": null,
   "metadata": {},
   "outputs": [],
   "source": [
    "# printing\n",
    "print(\"String with embedded {varlist} vars\".format(varlist)) # Can also have formatting inside the {}\n",
    "\n",
    "# os.path\n",
    "full_file_path = os.path.join(file_path, file_name) # don't need trailing slah on file path\n",
    "file_size = os.path.getsize(full_file_path)\n",
    "\n",
    "# sqlite\n",
    "sqllite_db_conn = sqlite3.connect(path_to_db)"
   ]
  },
  {
   "cell_type": "markdown",
   "metadata": {},
   "source": [
    "## Pandas"
   ]
  },
  {
   "cell_type": "code",
   "execution_count": null,
   "metadata": {},
   "outputs": [],
   "source": [
    "# Importing data\n",
    "df = pd.read_csv(path_to_csv, sep=',')\n",
    "\n",
    "# Exporting data\n",
    "df.to_sql(table_name, db_conn, if_exists=\"replace\")\n",
    "\n",
    "# Slicing\n",
    "slice = df.iloc[slice_start:slice_end]\n",
    "\n",
    "# df size\n",
    "numrows = len(df)\n"
   ]
  },
  {
   "cell_type": "markdown",
   "metadata": {},
   "source": [
    "## SQL"
   ]
  },
  {
   "cell_type": "code",
   "execution_count": null,
   "metadata": {},
   "outputs": [],
   "source": [
    "# Cursor processing using SQL Lite\n",
    "conn = sqlite3.connect(path_to_db) # create the db connection\n",
    "cursor = conn.cursor()             # initiate the cursor\n",
    "list_of_tuples = cursor.execute(sql_query_string).fetchall()\n",
    "# or\n",
    "df = pd.read_sql_squery(sql_query_string, conn)"
   ]
  }
 ],
 "metadata": {
  "kernelspec": {
   "display_name": "Python 3",
   "language": "python",
   "name": "python3"
  },
  "language_info": {
   "codemirror_mode": {
    "name": "ipython",
    "version": 3
   },
   "file_extension": ".py",
   "mimetype": "text/x-python",
   "name": "python",
   "nbconvert_exporter": "python",
   "pygments_lexer": "ipython3",
   "version": "3.6.4"
  }
 },
 "nbformat": 4,
 "nbformat_minor": 2
}
