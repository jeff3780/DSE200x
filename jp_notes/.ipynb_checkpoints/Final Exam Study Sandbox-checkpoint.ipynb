{
 "cells": [
  {
   "cell_type": "markdown",
   "metadata": {},
   "source": [
    "Study Sandbox for Final Exam DSE200X"
   ]
  },
  {
   "cell_type": "code",
   "execution_count": 1,
   "metadata": {},
   "outputs": [],
   "source": [
    "# All Imports go here\n",
    "import numpy as np\n",
    "import pandas as pd\n",
    "import os.path\n",
    "import sqlite3\n",
    "import matplotlib.pyplot as plt"
   ]
  },
  {
   "cell_type": "code",
   "execution_count": 8,
   "metadata": {},
   "outputs": [],
   "source": [
    "# Also set data file constants up here\n",
    "pjtdata_path = 'D:/PjtData/5_LP/SBL'\n",
    "datafile_18 = 'NHLHockeyRef2018.csv'\n",
    "datafile_pre18 = 'NHLHockeyRefPre2018.xlsx'"
   ]
  },
  {
   "cell_type": "markdown",
   "metadata": {},
   "source": [
    "## Load Data"
   ]
  },
  {
   "cell_type": "code",
   "execution_count": 9,
   "metadata": {},
   "outputs": [
    {
     "data": {
      "text/plain": [
       "(108891, 1996157)"
      ]
     },
     "execution_count": 9,
     "metadata": {},
     "output_type": "execute_result"
    }
   ],
   "source": [
    "# os.path\n",
    "fullpath_datafile_18 = os.path.join(pjtdata_path, datafile_18)\n",
    "fullpath_datafile_pre18 = os.path.join(pjtdata_path, datafile_pre18)\n",
    "file_size18 = os.path.getsize(fullpath_datafile_18)\n",
    "file_sizepre18 = os.path.getsize(fullpath_datafile_pre18)\n",
    "file_size18, file_sizepre18"
   ]
  },
  {
   "cell_type": "code",
   "execution_count": 16,
   "metadata": {},
   "outputs": [],
   "source": [
    "df18 = pd.read_csv(fullpath_datafile_18, sep=',')\n",
    "dfpre18 = pd.read_excel(fullpath_datafile_pre18)"
   ]
  },
  {
   "cell_type": "code",
   "execution_count": 17,
   "metadata": {},
   "outputs": [
    {
     "data": {
      "text/plain": [
       "Index(['Rk', 'Player', 'Age', 'Pos', 'Tm', 'GP', 'G', 'A', 'PTS', 'plusminus',\n",
       "       'PIM', 'PS', 'EV', 'PP', 'SH', 'GW', 'EV.1', 'PP.1', 'SH.1', 'S',\n",
       "       'S_percent', 'TOI', 'ATOI', 'BLK', 'HIT', 'FOW', 'FOL', 'FO_percent',\n",
       "       'HART', 'Votes', 'Season'],\n",
       "      dtype='object')"
      ]
     },
     "execution_count": 17,
     "metadata": {},
     "output_type": "execute_result"
    }
   ],
   "source": [
    "dfpre18.columns"
   ]
  },
  {
   "cell_type": "code",
   "execution_count": 18,
   "metadata": {},
   "outputs": [
    {
     "data": {
      "text/plain": [
       "Index(['Rk', 'Player', 'Age', 'Pos', 'Tm', 'GP', 'G', 'A', 'PTS', '+/-', 'PIM',\n",
       "       'PS', 'EV', 'PP', 'SH', 'GW', 'EV.1', 'PP.1', 'SH.1', 'S', 'S%', 'TOI',\n",
       "       'ATOI', 'BLK', 'HIT', 'FOW', 'FOL', 'FO%'],\n",
       "      dtype='object')"
      ]
     },
     "execution_count": 18,
     "metadata": {},
     "output_type": "execute_result"
    }
   ],
   "source": [
    "df18.columns"
   ]
  },
  {
   "cell_type": "code",
   "execution_count": null,
   "metadata": {},
   "outputs": [],
   "source": [
    "# sqlite\n",
    "sqllite_db_conn = sqlite3.connect(path_to_db)"
   ]
  },
  {
   "cell_type": "markdown",
   "metadata": {},
   "source": [
    "## Pandas"
   ]
  },
  {
   "cell_type": "code",
   "execution_count": null,
   "metadata": {},
   "outputs": [],
   "source": [
    "# Importing data\n",
    "df = pd.read_csv(path_to_csv, sep=',')\n",
    "\n",
    "# Exporting data\n",
    "df.to_sql(table_name, db_conn, if_exists=\"replace\")\n",
    "\n",
    "# Slicing\n",
    "slice = df.iloc[slice_start:slice_end]\n",
    "\n",
    "# df size\n",
    "numrows = len(df)\n"
   ]
  },
  {
   "cell_type": "markdown",
   "metadata": {},
   "source": [
    "## SQL"
   ]
  },
  {
   "cell_type": "code",
   "execution_count": null,
   "metadata": {},
   "outputs": [],
   "source": [
    "# Cursor processing using SQL Lite\n",
    "conn = sqlite3.connect(path_to_db) # create the db connection\n",
    "cursor = conn.cursor()             # initiate the cursor\n",
    "list_of_tuples = cursor.execute(sql_query_string).fetchall()\n",
    "# or\n",
    "df = pd.read_sql_squery(sql_query_string, conn)"
   ]
  }
 ],
 "metadata": {
  "kernelspec": {
   "display_name": "Python 3",
   "language": "python",
   "name": "python3"
  },
  "language_info": {
   "codemirror_mode": {
    "name": "ipython",
    "version": 3
   },
   "file_extension": ".py",
   "mimetype": "text/x-python",
   "name": "python",
   "nbconvert_exporter": "python",
   "pygments_lexer": "ipython3",
   "version": "3.6.4"
  }
 },
 "nbformat": 4,
 "nbformat_minor": 2
}
