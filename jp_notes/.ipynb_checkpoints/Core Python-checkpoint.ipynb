{
 "cells": [
  {
   "cell_type": "markdown",
   "metadata": {},
   "source": [
    "DataCamp: Python Data Science Toolbox (Part 1)\n",
    "https://www.datacamp.com/courses/python-data-science-toolbox-part-1\n",
    "\n",
    "Lambda functions:\n",
    "* Lambda functions\n",
    "* Map()\n",
    "* Filter()\n",
    "* Reduce()\n",
    "\n",
    "Error handling:\n",
    "* try-except\n",
    "* raise\n",
    "\n",
    "Scope:\n",
    "\n",
    "Default arguments:\n",
    "\n",
    "Variable length args and keyword args:\n",
    "* \\*args\n",
    "* \\*kwargs\n",
    "\n",
    "Functions:\n",
    "\n",
    "Tuples:\n",
    "* Non-mutable\n",
    "* Perfect for returning multiple values\n",
    "\n",
    "Returning multiple values:\n",
    "* Using tuples\n"
   ]
  },
  {
   "cell_type": "code",
   "execution_count": 1,
   "metadata": {},
   "outputs": [
    {
     "data": {
      "text/html": [
       "\n",
       "        <iframe\n",
       "            width=\"600\"\n",
       "            height=\"300\"\n",
       "            src=\"file:///C:/Users/jeff/Downloads/Puuri.pdf\"\n",
       "            frameborder=\"0\"\n",
       "            allowfullscreen\n",
       "        ></iframe>\n",
       "        "
      ],
      "text/plain": [
       "<IPython.lib.display.IFrame at 0x26b65fea128>"
      ]
     },
     "execution_count": 1,
     "metadata": {},
     "output_type": "execute_result"
    }
   ],
   "source": [
    "from IPython.display import IFrame\n",
    "IFrame(\"file:///C:/Users/jeff/Downloads/Puuri.pdf\", width=600, height=300)"
   ]
  },
  {
   "cell_type": "code",
   "execution_count": 18,
   "metadata": {
    "collapsed": true
   },
   "outputs": [],
   "source": [
    "import webbrowser"
   ]
  },
  {
   "cell_type": "code",
   "execution_count": 19,
   "metadata": {},
   "outputs": [
    {
     "data": {
      "text/plain": [
       "True"
      ]
     },
     "execution_count": 19,
     "metadata": {},
     "output_type": "execute_result"
    }
   ],
   "source": [
    "url = 'file:///C:/Users/jeff/Downloads/Puuri.pdf'\n",
    "webbrowser.open(url)"
   ]
  },
  {
   "cell_type": "code",
   "execution_count": 14,
   "metadata": {},
   "outputs": [
    {
     "data": {
      "text/markdown": [
       "# Try this"
      ]
     },
     "metadata": {},
     "output_type": "display_data"
    }
   ],
   "source": [
    "#display_markdown(\"# Try this\", raw=True)"
   ]
  },
  {
   "cell_type": "code",
   "execution_count": 15,
   "metadata": {},
   "outputs": [
    {
     "data": {
      "application/pdf": "C:/Users/jeff/Downloads/Puuri.pdf"
     },
     "metadata": {},
     "output_type": "display_data"
    }
   ],
   "source": [
    "#display_pdf(\"C:/Users/jeff/Downloads/Puuri.pdf\", raw=True)"
   ]
  },
  {
   "cell_type": "code",
   "execution_count": null,
   "metadata": {
    "collapsed": true
   },
   "outputs": [],
   "source": []
  }
 ],
 "metadata": {
  "kernelspec": {
   "display_name": "Python 3",
   "language": "python",
   "name": "python3"
  },
  "language_info": {
   "codemirror_mode": {
    "name": "ipython",
    "version": 3
   },
   "file_extension": ".py",
   "mimetype": "text/x-python",
   "name": "python",
   "nbconvert_exporter": "python",
   "pygments_lexer": "ipython3",
   "version": "3.6.4"
  }
 },
 "nbformat": 4,
 "nbformat_minor": 2
}
