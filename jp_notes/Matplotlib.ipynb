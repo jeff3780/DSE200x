{
 "cells": [
  {
   "cell_type": "markdown",
   "metadata": {},
   "source": [
    "JLP matplotlib notes from DSE200x course (week 5)\n",
    "\n",
    "3 main plot types:\n",
    "* Line\n",
    "* Histogram\n",
    "* Scatter\n",
    "\n",
    "[matplotlib website: https://matplotlib.org/index.html](https://matplotlib.org/index.html)\n",
    "\n",
    "Book by Andy Kirk - [Data Visualization: A Handbook for Data Driven Design](https://smile.amazon.com/gp/product/1473912148/ref=ox_sc_act_title_1?smid=A20PB5TCM54ALE&psc=1)\n",
    "\n",
    "Article about visualization from the P4DS team:\n",
    "https://hbr.org/2018/03/what-happens-when-data-scientists-and-designers-work-together"
   ]
  },
  {
   "cell_type": "markdown",
   "metadata": {},
   "source": [
    "# Setup"
   ]
  },
  {
   "cell_type": "code",
   "execution_count": 1,
   "metadata": {
    "collapsed": true
   },
   "outputs": [],
   "source": [
    "import pandas as pd\n",
    "#import numpy as np\n",
    "#import random\n",
    "import matplotlib.pyplot as plt"
   ]
  },
  {
   "cell_type": "code",
   "execution_count": 2,
   "metadata": {},
   "outputs": [
    {
     "data": {
      "text/html": [
       "<div>\n",
       "<style>\n",
       "    .dataframe thead tr:only-child th {\n",
       "        text-align: right;\n",
       "    }\n",
       "\n",
       "    .dataframe thead th {\n",
       "        text-align: left;\n",
       "    }\n",
       "\n",
       "    .dataframe tbody tr th {\n",
       "        vertical-align: top;\n",
       "    }\n",
       "</style>\n",
       "<table border=\"1\" class=\"dataframe\">\n",
       "  <thead>\n",
       "    <tr style=\"text-align: right;\">\n",
       "      <th></th>\n",
       "      <th>Date</th>\n",
       "      <th>RegionID</th>\n",
       "      <th>RegionName</th>\n",
       "      <th>State</th>\n",
       "      <th>Metro</th>\n",
       "      <th>County</th>\n",
       "      <th>SizeRank</th>\n",
       "      <th>Zhvi</th>\n",
       "      <th>MoM</th>\n",
       "      <th>QoQ</th>\n",
       "      <th>YoY</th>\n",
       "      <th>5Year</th>\n",
       "      <th>10Year</th>\n",
       "      <th>PeakMonth</th>\n",
       "      <th>PeakQuarter</th>\n",
       "      <th>PeakZHVI</th>\n",
       "      <th>PctFallFromPeak</th>\n",
       "      <th>LastTimeAtCurrZHVI</th>\n",
       "    </tr>\n",
       "  </thead>\n",
       "  <tbody>\n",
       "    <tr>\n",
       "      <th>0</th>\n",
       "      <td>2017-12-31</td>\n",
       "      <td>6181</td>\n",
       "      <td>New York</td>\n",
       "      <td>NY</td>\n",
       "      <td>New York</td>\n",
       "      <td>Queens</td>\n",
       "      <td>0</td>\n",
       "      <td>710300</td>\n",
       "      <td>0.003674</td>\n",
       "      <td>0.022309</td>\n",
       "      <td>0.140311</td>\n",
       "      <td>0.090164</td>\n",
       "      <td>0.033117</td>\n",
       "      <td>2017-12</td>\n",
       "      <td>2017-Q4</td>\n",
       "      <td>710300</td>\n",
       "      <td>0.000000</td>\n",
       "      <td>2017-12</td>\n",
       "    </tr>\n",
       "    <tr>\n",
       "      <th>1</th>\n",
       "      <td>2017-12-31</td>\n",
       "      <td>12447</td>\n",
       "      <td>Los Angeles</td>\n",
       "      <td>CA</td>\n",
       "      <td>Los Angeles-Long Beach-Anaheim</td>\n",
       "      <td>Los Angeles</td>\n",
       "      <td>1</td>\n",
       "      <td>658500</td>\n",
       "      <td>0.007651</td>\n",
       "      <td>0.025541</td>\n",
       "      <td>0.084308</td>\n",
       "      <td>0.101554</td>\n",
       "      <td>0.017430</td>\n",
       "      <td>2017-12</td>\n",
       "      <td>2017-Q4</td>\n",
       "      <td>658500</td>\n",
       "      <td>0.000000</td>\n",
       "      <td>2017-12</td>\n",
       "    </tr>\n",
       "    <tr>\n",
       "      <th>2</th>\n",
       "      <td>2017-12-31</td>\n",
       "      <td>17426</td>\n",
       "      <td>Chicago</td>\n",
       "      <td>IL</td>\n",
       "      <td>Chicago</td>\n",
       "      <td>Cook</td>\n",
       "      <td>2</td>\n",
       "      <td>221000</td>\n",
       "      <td>0.000453</td>\n",
       "      <td>-0.003157</td>\n",
       "      <td>0.032228</td>\n",
       "      <td>0.057254</td>\n",
       "      <td>-0.010820</td>\n",
       "      <td>2007-02</td>\n",
       "      <td>2007-Q1</td>\n",
       "      <td>247200</td>\n",
       "      <td>-0.105987</td>\n",
       "      <td>2005-01</td>\n",
       "    </tr>\n",
       "    <tr>\n",
       "      <th>3</th>\n",
       "      <td>2017-12-31</td>\n",
       "      <td>13271</td>\n",
       "      <td>Philadelphia</td>\n",
       "      <td>PA</td>\n",
       "      <td>Philadelphia</td>\n",
       "      <td>Philadelphia</td>\n",
       "      <td>3</td>\n",
       "      <td>144600</td>\n",
       "      <td>0.006263</td>\n",
       "      <td>0.024805</td>\n",
       "      <td>0.091321</td>\n",
       "      <td>0.053554</td>\n",
       "      <td>0.018823</td>\n",
       "      <td>2017-12</td>\n",
       "      <td>2017-Q4</td>\n",
       "      <td>144600</td>\n",
       "      <td>0.000000</td>\n",
       "      <td>2017-12</td>\n",
       "    </tr>\n",
       "    <tr>\n",
       "      <th>4</th>\n",
       "      <td>2017-12-31</td>\n",
       "      <td>40326</td>\n",
       "      <td>Phoenix</td>\n",
       "      <td>AZ</td>\n",
       "      <td>Phoenix</td>\n",
       "      <td>Maricopa</td>\n",
       "      <td>4</td>\n",
       "      <td>223700</td>\n",
       "      <td>0.001791</td>\n",
       "      <td>0.016356</td>\n",
       "      <td>0.094423</td>\n",
       "      <td>0.111267</td>\n",
       "      <td>-0.000890</td>\n",
       "      <td>2006-07</td>\n",
       "      <td>2006-Q3</td>\n",
       "      <td>245800</td>\n",
       "      <td>-0.089910</td>\n",
       "      <td>2005-10</td>\n",
       "    </tr>\n",
       "  </tbody>\n",
       "</table>\n",
       "</div>"
      ],
      "text/plain": [
       "         Date  RegionID    RegionName State                           Metro  \\\n",
       "0  2017-12-31      6181      New York    NY                        New York   \n",
       "1  2017-12-31     12447   Los Angeles    CA  Los Angeles-Long Beach-Anaheim   \n",
       "2  2017-12-31     17426       Chicago    IL                         Chicago   \n",
       "3  2017-12-31     13271  Philadelphia    PA                    Philadelphia   \n",
       "4  2017-12-31     40326       Phoenix    AZ                         Phoenix   \n",
       "\n",
       "         County  SizeRank    Zhvi       MoM       QoQ       YoY     5Year  \\\n",
       "0        Queens         0  710300  0.003674  0.022309  0.140311  0.090164   \n",
       "1   Los Angeles         1  658500  0.007651  0.025541  0.084308  0.101554   \n",
       "2          Cook         2  221000  0.000453 -0.003157  0.032228  0.057254   \n",
       "3  Philadelphia         3  144600  0.006263  0.024805  0.091321  0.053554   \n",
       "4      Maricopa         4  223700  0.001791  0.016356  0.094423  0.111267   \n",
       "\n",
       "     10Year PeakMonth PeakQuarter  PeakZHVI  PctFallFromPeak  \\\n",
       "0  0.033117   2017-12     2017-Q4    710300         0.000000   \n",
       "1  0.017430   2017-12     2017-Q4    658500         0.000000   \n",
       "2 -0.010820   2007-02     2007-Q1    247200        -0.105987   \n",
       "3  0.018823   2017-12     2017-Q4    144600         0.000000   \n",
       "4 -0.000890   2006-07     2006-Q3    245800        -0.089910   \n",
       "\n",
       "  LastTimeAtCurrZHVI  \n",
       "0            2017-12  \n",
       "1            2017-12  \n",
       "2            2005-01  \n",
       "3            2017-12  \n",
       "4            2005-10  "
      ]
     },
     "execution_count": 2,
     "metadata": {},
     "output_type": "execute_result"
    }
   ],
   "source": [
    "cz = pd.read_csv('D:/PjtData/1_JJC/RelocFrVa/City_Zhvi_Summary_AllHomes.csv')\n",
    "cz.head()"
   ]
  },
  {
   "cell_type": "code",
   "execution_count": 5,
   "metadata": {},
   "outputs": [
    {
     "data": {
      "text/plain": [
       "13147"
      ]
     },
     "execution_count": 5,
     "metadata": {},
     "output_type": "execute_result"
    }
   ],
   "source": [
    "len(cz)"
   ]
  },
  {
   "cell_type": "markdown",
   "metadata": {},
   "source": [
    "# Line Plots\n",
    "```\n",
    "plt.plot(x_vals, y_vals)\n",
    "plt.xlabel('x_axis_labels')\n",
    "plt.ylabel('y_axis_labels')\n",
    "plt.title('overall_plot_title')\n",
    "plt.axis([xmin, xmax, ymin, ymax]) # axes ranges\n",
    "plt.grid()\n",
    "plt.show()\n",
    "```"
   ]
  },
  {
   "cell_type": "code",
   "execution_count": 6,
   "metadata": {},
   "outputs": [
    {
     "data": {
      "image/png": "[encoded data removed]",
      "text/plain": [
       "<matplotlib.figure.Figure at 0x19ef45bba20>"
      ]
     },
     "metadata": {},
     "output_type": "display_data"
    }
   ],
   "source": [
    "plt.plot([1, 2, 3, 4, 5],[5, 4, 3, 2, 1])\n",
    "plt.show()"
   ]
  },
  {
   "cell_type": "markdown",
   "metadata": {},
   "source": [
    "# Histograms\n",
    "```\n",
    "plt.hist(data, num_bins, options='options')\n",
    "```"
   ]
  },
  {
   "cell_type": "code",
   "execution_count": 8,
   "metadata": {},
   "outputs": [
    {
     "data": {
      "image/png": "[encoded data removed]",
      "text/plain": [
       "<matplotlib.figure.Figure at 0x19ef458c0f0>"
      ]
     },
     "metadata": {},
     "output_type": "display_data"
    }
   ],
   "source": [
    "plt.hist(cz['Zhvi'],200)\n",
    "plt.show()"
   ]
  },
  {
   "cell_type": "markdown",
   "metadata": {},
   "source": [
    "# Scatter\n",
    "```\n",
    "plt.scatter(x_vals, y_vals)\n",
    "```"
   ]
  },
  {
   "cell_type": "code",
   "execution_count": 10,
   "metadata": {},
   "outputs": [
    {
     "data": {
      "image/png": "[encoded data removed]",
      "text/plain": [
       "<matplotlib.figure.Figure at 0x19ef5f2bba8>"
      ]
     },
     "metadata": {},
     "output_type": "display_data"
    }
   ],
   "source": [
    "plt.scatter(cz['Zhvi'],cz['SizeRank'])\n",
    "plt.show()"
   ]
  },
  {
   "cell_type": "code",
   "execution_count": null,
   "metadata": {
    "collapsed": true
   },
   "outputs": [],
   "source": []
  }
 ],
 "metadata": {
  "kernelspec": {
   "display_name": "Python 3",
   "language": "python",
   "name": "python3"
  },
  "language_info": {
   "codemirror_mode": {
    "name": "ipython",
    "version": 3
   },
   "file_extension": ".py",
   "mimetype": "text/x-python",
   "name": "python",
   "nbconvert_exporter": "python",
   "pygments_lexer": "ipython3",
   "version": "3.6.2"
  }
 },
 "nbformat": 4,
 "nbformat_minor": 2
}
